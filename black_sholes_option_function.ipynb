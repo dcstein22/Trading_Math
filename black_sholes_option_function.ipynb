{
 "cells": [
  {
   "cell_type": "code",
   "execution_count": 2,
   "metadata": {},
   "outputs": [],
   "source": [
    "import numpy as np\n",
    "import scipy.stats as scs\n",
    "import matplotlib.pyplot as plt\n",
    "import pandas as pd\n",
    "import yfinance as yf\n",
    "import matplotlib as mpl\n",
    "import datetime as dt\n",
    "import typing\n",
    "import scipy.stats as stats\n",
    "from datetime import datetime, timedelta\n",
    "plt.style.use('seaborn')\n",
    "%matplotlib inline\n",
    "import sympy"
   ]
  },
  {
   "cell_type": "code",
   "execution_count": 3,
   "metadata": {},
   "outputs": [
    {
     "name": "stdout",
     "output_type": "stream",
     "text": [
      "[*********************100%***********************]  1 of 1 completed\n"
     ]
    }
   ],
   "source": [
    "google = pd.DataFrame(yf.download('googl', start = '2022-12-01')['Adj Close']).pct_change().dropna()"
   ]
  },
  {
   "cell_type": "code",
   "execution_count": 4,
   "metadata": {},
   "outputs": [
    {
     "data": {
      "text/plain": [
       "16"
      ]
     },
     "execution_count": 4,
     "metadata": {},
     "output_type": "execute_result"
    }
   ],
   "source": [
    "d = pd.date_range(start='2023-02-02', end = '2023-02-17', freq='D')\n",
    "len(d)"
   ]
  },
  {
   "cell_type": "code",
   "execution_count": 5,
   "metadata": {},
   "outputs": [
    {
     "name": "stdout",
     "output_type": "stream",
     "text": [
      "Time delta: 15 days 00:00:00\n"
     ]
    }
   ],
   "source": [
    "start = '2023-02-02'\n",
    "end = '2023-02-17'\n",
    "date_range = pd.date_range(start = start, end = end , freq = 'B')\n",
    "delta = date_range[-1] - date_range[0]\n",
    "print(\"Time delta:\", delta)"
   ]
  },
  {
   "cell_type": "markdown",
   "metadata": {},
   "source": [
    "# Option Formula\n",
    "\n",
    "## Call Option \n",
    "\n",
    "- Gives the owner the right to buy but not the obligation to buy the underlying asset at a specific price $K$.\n",
    "\n",
    "$C_{0,t} = S_0 \\text{N}({d_1}) - Ke^{-rT} \\text{N}({d_2})$\n",
    "\n",
    "## Put Option\n",
    "\n",
    "$P_{0,t} = Ke^{-rT} \\text{N}({-d_2}) - S_0 \\text{N}({-d_1})$\n"
   ]
  },
  {
   "cell_type": "code",
   "execution_count": 6,
   "metadata": {},
   "outputs": [],
   "source": [
    "def call(S0, K, r, sigma, T):\n",
    "    \"\"\"\n",
    "    Returns the Black-Scholes Call Option Price\n",
    "    S0: Spot price at time 0\n",
    "    K: Strike price\n",
    "    r: risk-free interest rate\n",
    "    sigma: annualized volatility of the option\n",
    "    T: Time to maturity\n",
    "\n",
    "    \"\"\"\n",
    "    d1 = (np.log(S0/K)+(r+((sigma**2)/2))*T)/(sigma*np.sqrt(T))\n",
    "    d2 = d1 - sigma*np.sqrt(T)\n",
    "    pv = K*np.exp(-r*T)\n",
    "\n",
    "    C = S0*(stats.norm.cdf(d1)) - pv*(stats.norm.cdf(d2))\n",
    "    delta = stats.norm.cdf(d1)\n",
    "    theta = -r*K*np.exp(-r*T)*stats.norm.cdf(d2) - ((sigma*S0)/(2*np.sqrt(T)))*stats.norm.pdf(d1)\n",
    "    gamma = stats.norm.pdf(d1)/((sigma*S0*np.sqrt(T)))\n",
    "    vega = S0*np.sqrt(T)*stats.norm.pdf(d1)\n",
    "    DF = pd.DataFrame([np.round(C,4)], columns = ['Call Option'],index = ['Price'])\n",
    "    DF.loc['Delta'] = delta \n",
    "    DF.loc['Theta'] = theta\n",
    "    DF.loc['Gamma'] = gamma\n",
    "    DF.loc['Vega'] = vega\n",
    "    \n",
    "    return DF\n",
    "def put(S0, K, r, sigma, T):\n",
    "    \"\"\"\n",
    "    Returns the Black-Scholes Put Option Price\n",
    "    S0: Spot price at time 0\n",
    "    K: Strike price\n",
    "    r: risk-free interest rate\n",
    "    sigma: annualized volatility of the option\n",
    "    T: Time to maturity\n",
    "\n",
    "    \"\"\"\n",
    "    d1 = (np.log(S0/K)+(r+((sigma**2)/2))*T)/(sigma*np.sqrt(T))\n",
    "    d2 = d1 - sigma*np.sqrt(T)\n",
    "    pv = K*np.exp(-r*T)\n",
    "\n",
    "    C = pv*(stats.norm.cdf(-d2)) - S0*(stats.norm.cdf(-d1))\n",
    "    delta = -stats.norm.cdf(-d1)\n",
    "    theta = r*K*np.exp(-r*T)*stats.norm.cdf(-d2) - ((sigma*S0)/(2*np.sqrt(T)))*stats.norm.pdf(d1)\n",
    "    gamma = stats.norm.pdf(d1)/((sigma*S0*np.sqrt(T)))\n",
    "    vega = S0*np.sqrt(T)*stats.norm.pdf(d1)\n",
    "    DF = pd.DataFrame([np.round(C,4)], columns = ['Put Option'],index = ['Price'] )\n",
    "    DF.loc['Delta'] = delta\n",
    "    DF.loc['Theta'] = theta\n",
    "    DF.loc['Gamma'] = gamma\n",
    "    DF.loc['Vega'] = vega\n",
    "    return DF"
   ]
  },
  {
   "cell_type": "code",
   "execution_count": 7,
   "metadata": {},
   "outputs": [
    {
     "data": {
      "text/html": [
       "<div>\n",
       "<style scoped>\n",
       "    .dataframe tbody tr th:only-of-type {\n",
       "        vertical-align: middle;\n",
       "    }\n",
       "\n",
       "    .dataframe tbody tr th {\n",
       "        vertical-align: top;\n",
       "    }\n",
       "\n",
       "    .dataframe thead th {\n",
       "        text-align: right;\n",
       "    }\n",
       "</style>\n",
       "<table border=\"1\" class=\"dataframe\">\n",
       "  <thead>\n",
       "    <tr style=\"text-align: right;\">\n",
       "      <th></th>\n",
       "      <th>Call Option</th>\n",
       "    </tr>\n",
       "  </thead>\n",
       "  <tbody>\n",
       "    <tr>\n",
       "      <th>Price</th>\n",
       "      <td>0.510700</td>\n",
       "    </tr>\n",
       "    <tr>\n",
       "      <th>Delta</th>\n",
       "      <td>0.206311</td>\n",
       "    </tr>\n",
       "    <tr>\n",
       "      <th>Theta</th>\n",
       "      <td>-48.715500</td>\n",
       "    </tr>\n",
       "    <tr>\n",
       "      <th>Gamma</th>\n",
       "      <td>0.063458</td>\n",
       "    </tr>\n",
       "    <tr>\n",
       "      <th>Vega</th>\n",
       "      <td>3.204519</td>\n",
       "    </tr>\n",
       "  </tbody>\n",
       "</table>\n",
       "</div>"
      ],
      "text/plain": [
       "       Call Option\n",
       "Price     0.510700\n",
       "Delta     0.206311\n",
       "Theta   -48.715500\n",
       "Gamma     0.063458\n",
       "Vega      3.204519"
      ]
     },
     "execution_count": 7,
     "metadata": {},
     "output_type": "execute_result"
    }
   ],
   "source": [
    "call(S0=96,K= 100,r = 0.1,sigma= .4,T = (5/365))"
   ]
  },
  {
   "cell_type": "code",
   "execution_count": 8,
   "metadata": {},
   "outputs": [
    {
     "name": "stdout",
     "output_type": "stream",
     "text": [
      "Portfolio Gamma is -6000.0; Portfolio delta is -450.0; Portfolio vega is -4000.0.\n"
     ]
    }
   ],
   "source": [
    "poss = [-1000,-500,-2000,-500]\n",
    "gamma = [2.2,.6,1.3,1.8]\n",
    "delta = [.5,.8,-.4,.7]\n",
    "vega = [1.8,.2,.7,1.4]\n",
    "V_g = np.dot(poss,gamma)\n",
    "V_d = np.dot(poss,delta)\n",
    "V_v = np.dot(poss,vega)\n",
    "print(f'Portfolio Gamma is {V_g}; Portfolio delta is {V_d}; Portfolio vega is {V_v}.')"
   ]
  },
  {
   "cell_type": "code",
   "execution_count": 9,
   "metadata": {},
   "outputs": [
    {
     "data": {
      "text/latex": [
       "$\\displaystyle \\left[\\begin{matrix}-1710.0\\\\3200.0\\\\2400.0\\end{matrix}\\right]$"
      ],
      "text/plain": [
       "Matrix([\n",
       "[-1710.0],\n",
       "[ 3200.0],\n",
       "[ 2400.0]])"
      ]
     },
     "execution_count": 9,
     "metadata": {},
     "output_type": "execute_result"
    }
   ],
   "source": [
    "A = sympy.Matrix([[1,.6,.1],[0,1.5,.5],[0,.8,.6]])\n",
    "b = sympy.Matrix([450,6000,4000])\n",
    "A.solve(b)"
   ]
  },
  {
   "cell_type": "markdown",
   "metadata": {},
   "source": [
    "In interactive brokers I currently own two put contracts on Mastercard. \n"
   ]
  },
  {
   "cell_type": "code",
   "execution_count": 10,
   "metadata": {},
   "outputs": [
    {
     "data": {
      "text/latex": [
       "$\\displaystyle \\left[\\begin{matrix}202.6\\\\-2.0\\end{matrix}\\right]$"
      ],
      "text/plain": [
       "Matrix([\n",
       "[202.6],\n",
       "[ -2.0]])"
      ]
     },
     "execution_count": 10,
     "metadata": {},
     "output_type": "execute_result"
    }
   ],
   "source": [
    "A_1 = sympy.Matrix([[1,63.3],[0,1.1]])\n",
    "b_2 = sympy.Matrix([76,-2.2])\n",
    "\n",
    "A_1.solve(b_2)"
   ]
  },
  {
   "cell_type": "code",
   "execution_count": 11,
   "metadata": {},
   "outputs": [
    {
     "data": {
      "text/latex": [
       "$\\displaystyle \\left[\\begin{matrix}-9912.03703703703\\\\104.166666666667\\\\-92.5925925925925\\end{matrix}\\right]$"
      ],
      "text/plain": [
       "Matrix([\n",
       "[-9912.03703703703],\n",
       "[ 104.166666666667],\n",
       "[-92.5925925925925]])"
      ]
     },
     "execution_count": 11,
     "metadata": {},
     "output_type": "execute_result"
    }
   ],
   "source": [
    "A_2 = sympy.Matrix([[1,56.4,-43.6],[0,1.6,1.8],[0,75.2,73.8]])\n",
    "b_3 = sympy.Matrix([0,0,1000])\n",
    "A_2.solve(b_3)"
   ]
  },
  {
   "cell_type": "code",
   "execution_count": 27,
   "metadata": {},
   "outputs": [
    {
     "data": {
      "text/latex": [
       "$\\displaystyle \\left[\\begin{matrix}6.88480069874164\\\\6.90866482594699\\end{matrix}\\right]$"
      ],
      "text/plain": [
       "Matrix([\n",
       "[6.88480069874164],\n",
       "[6.90866482594699]])"
      ]
     },
     "execution_count": 27,
     "metadata": {},
     "output_type": "execute_result"
    }
   ],
   "source": [
    "A_3 = sympy.Matrix([[.579,-.577],[.736,.714]])\n",
    "b_4 = sympy.Matrix([0,10])\n",
    "A_3.solve(b_4)"
   ]
  },
  {
   "cell_type": "code",
   "execution_count": 13,
   "metadata": {},
   "outputs": [
    {
     "data": {
      "text/html": [
       "<div>\n",
       "<style scoped>\n",
       "    .dataframe tbody tr th:only-of-type {\n",
       "        vertical-align: middle;\n",
       "    }\n",
       "\n",
       "    .dataframe tbody tr th {\n",
       "        vertical-align: top;\n",
       "    }\n",
       "\n",
       "    .dataframe thead th {\n",
       "        text-align: right;\n",
       "    }\n",
       "</style>\n",
       "<table border=\"1\" class=\"dataframe\">\n",
       "  <thead>\n",
       "    <tr style=\"text-align: right;\">\n",
       "      <th></th>\n",
       "      <th>Call Option</th>\n",
       "    </tr>\n",
       "  </thead>\n",
       "  <tbody>\n",
       "    <tr>\n",
       "      <th>Price</th>\n",
       "      <td>2.400500</td>\n",
       "    </tr>\n",
       "    <tr>\n",
       "      <th>Delta</th>\n",
       "      <td>0.521602</td>\n",
       "    </tr>\n",
       "    <tr>\n",
       "      <th>Theta</th>\n",
       "      <td>-4.305390</td>\n",
       "    </tr>\n",
       "    <tr>\n",
       "      <th>Gamma</th>\n",
       "      <td>0.065545</td>\n",
       "    </tr>\n",
       "    <tr>\n",
       "      <th>Vega</th>\n",
       "      <td>12.105243</td>\n",
       "    </tr>\n",
       "  </tbody>\n",
       "</table>\n",
       "</div>"
      ],
      "text/plain": [
       "       Call Option\n",
       "Price     2.400500\n",
       "Delta     0.521602\n",
       "Theta    -4.305390\n",
       "Gamma     0.065545\n",
       "Vega     12.105243"
      ]
     },
     "execution_count": 13,
     "metadata": {},
     "output_type": "execute_result"
    }
   ],
   "source": [
    "call(49,50,.05,.2,0.3846)"
   ]
  },
  {
   "cell_type": "code",
   "execution_count": 14,
   "metadata": {},
   "outputs": [
    {
     "data": {
      "text/html": [
       "<div>\n",
       "<style scoped>\n",
       "    .dataframe tbody tr th:only-of-type {\n",
       "        vertical-align: middle;\n",
       "    }\n",
       "\n",
       "    .dataframe tbody tr th {\n",
       "        vertical-align: top;\n",
       "    }\n",
       "\n",
       "    .dataframe thead th {\n",
       "        text-align: right;\n",
       "    }\n",
       "</style>\n",
       "<table border=\"1\" class=\"dataframe\">\n",
       "  <thead>\n",
       "    <tr style=\"text-align: right;\">\n",
       "      <th></th>\n",
       "      <th>Call Option</th>\n",
       "    </tr>\n",
       "  </thead>\n",
       "  <tbody>\n",
       "    <tr>\n",
       "      <th>Price</th>\n",
       "      <td>3.212700</td>\n",
       "    </tr>\n",
       "    <tr>\n",
       "      <th>Delta</th>\n",
       "      <td>0.516087</td>\n",
       "    </tr>\n",
       "    <tr>\n",
       "      <th>Theta</th>\n",
       "      <td>-7.981188</td>\n",
       "    </tr>\n",
       "    <tr>\n",
       "      <th>Gamma</th>\n",
       "      <td>0.047455</td>\n",
       "    </tr>\n",
       "    <tr>\n",
       "      <th>Vega</th>\n",
       "      <td>11.161300</td>\n",
       "    </tr>\n",
       "  </tbody>\n",
       "</table>\n",
       "</div>"
      ],
      "text/plain": [
       "       Call Option\n",
       "Price     3.212700\n",
       "Delta     0.516087\n",
       "Theta    -7.981188\n",
       "Gamma     0.047455\n",
       "Vega     11.161300"
      ]
     },
     "execution_count": 14,
     "metadata": {},
     "output_type": "execute_result"
    }
   ],
   "source": [
    "call(56,57,.05,.3,.25)"
   ]
  },
  {
   "cell_type": "code",
   "execution_count": 15,
   "metadata": {},
   "outputs": [
    {
     "data": {
      "text/html": [
       "<div>\n",
       "<style scoped>\n",
       "    .dataframe tbody tr th:only-of-type {\n",
       "        vertical-align: middle;\n",
       "    }\n",
       "\n",
       "    .dataframe tbody tr th {\n",
       "        vertical-align: top;\n",
       "    }\n",
       "\n",
       "    .dataframe thead th {\n",
       "        text-align: right;\n",
       "    }\n",
       "</style>\n",
       "<table border=\"1\" class=\"dataframe\">\n",
       "  <thead>\n",
       "    <tr style=\"text-align: right;\">\n",
       "      <th></th>\n",
       "      <th>Call Option</th>\n",
       "    </tr>\n",
       "  </thead>\n",
       "  <tbody>\n",
       "    <tr>\n",
       "      <th>Price</th>\n",
       "      <td>1.620200</td>\n",
       "    </tr>\n",
       "    <tr>\n",
       "      <th>Delta</th>\n",
       "      <td>0.377409</td>\n",
       "    </tr>\n",
       "    <tr>\n",
       "      <th>Theta</th>\n",
       "      <td>-8.478146</td>\n",
       "    </tr>\n",
       "    <tr>\n",
       "      <th>Gamma</th>\n",
       "      <td>0.057462</td>\n",
       "    </tr>\n",
       "    <tr>\n",
       "      <th>Vega</th>\n",
       "      <td>8.374592</td>\n",
       "    </tr>\n",
       "  </tbody>\n",
       "</table>\n",
       "</div>"
      ],
      "text/plain": [
       "       Call Option\n",
       "Price     1.620200\n",
       "Delta     0.377409\n",
       "Theta    -8.478146\n",
       "Gamma     0.057462\n",
       "Vega      8.374592"
      ]
     },
     "execution_count": 15,
     "metadata": {},
     "output_type": "execute_result"
    }
   ],
   "source": [
    "call(54,57,.05,.3,.1666)"
   ]
  },
  {
   "cell_type": "code",
   "execution_count": 16,
   "metadata": {},
   "outputs": [
    {
     "data": {
      "text/html": [
       "<div>\n",
       "<style scoped>\n",
       "    .dataframe tbody tr th:only-of-type {\n",
       "        vertical-align: middle;\n",
       "    }\n",
       "\n",
       "    .dataframe tbody tr th {\n",
       "        vertical-align: top;\n",
       "    }\n",
       "\n",
       "    .dataframe thead th {\n",
       "        text-align: right;\n",
       "    }\n",
       "</style>\n",
       "<table border=\"1\" class=\"dataframe\">\n",
       "  <thead>\n",
       "    <tr style=\"text-align: right;\">\n",
       "      <th></th>\n",
       "      <th>Call Option</th>\n",
       "    </tr>\n",
       "  </thead>\n",
       "  <tbody>\n",
       "    <tr>\n",
       "      <th>Price</th>\n",
       "      <td>4.321500</td>\n",
       "    </tr>\n",
       "    <tr>\n",
       "      <th>Delta</th>\n",
       "      <td>0.427163</td>\n",
       "    </tr>\n",
       "    <tr>\n",
       "      <th>Theta</th>\n",
       "      <td>-13.304032</td>\n",
       "    </tr>\n",
       "    <tr>\n",
       "      <th>Gamma</th>\n",
       "      <td>0.026152</td>\n",
       "    </tr>\n",
       "    <tr>\n",
       "      <th>Vega</th>\n",
       "      <td>19.613729</td>\n",
       "    </tr>\n",
       "  </tbody>\n",
       "</table>\n",
       "</div>"
      ],
      "text/plain": [
       "       Call Option\n",
       "Price     4.321500\n",
       "Delta     0.427163\n",
       "Theta   -13.304032\n",
       "Gamma     0.026152\n",
       "Vega     19.613729"
      ]
     },
     "execution_count": 16,
     "metadata": {},
     "output_type": "execute_result"
    }
   ],
   "source": [
    "call(100,105,.04,.3,.25)"
   ]
  },
  {
   "cell_type": "code",
   "execution_count": 17,
   "metadata": {},
   "outputs": [
    {
     "data": {
      "text/html": [
       "<div>\n",
       "<style scoped>\n",
       "    .dataframe tbody tr th:only-of-type {\n",
       "        vertical-align: middle;\n",
       "    }\n",
       "\n",
       "    .dataframe tbody tr th {\n",
       "        vertical-align: top;\n",
       "    }\n",
       "\n",
       "    .dataframe thead th {\n",
       "        text-align: right;\n",
       "    }\n",
       "</style>\n",
       "<table border=\"1\" class=\"dataframe\">\n",
       "  <thead>\n",
       "    <tr style=\"text-align: right;\">\n",
       "      <th></th>\n",
       "      <th>Put Option</th>\n",
       "    </tr>\n",
       "  </thead>\n",
       "  <tbody>\n",
       "    <tr>\n",
       "      <th>Price</th>\n",
       "      <td>9.403700</td>\n",
       "    </tr>\n",
       "    <tr>\n",
       "      <th>Delta</th>\n",
       "      <td>-0.864327</td>\n",
       "    </tr>\n",
       "    <tr>\n",
       "      <th>Theta</th>\n",
       "      <td>0.565564</td>\n",
       "    </tr>\n",
       "    <tr>\n",
       "      <th>Gamma</th>\n",
       "      <td>0.029048</td>\n",
       "    </tr>\n",
       "    <tr>\n",
       "      <th>Vega</th>\n",
       "      <td>10.892980</td>\n",
       "    </tr>\n",
       "  </tbody>\n",
       "</table>\n",
       "</div>"
      ],
      "text/plain": [
       "       Put Option\n",
       "Price    9.403700\n",
       "Delta   -0.864327\n",
       "Theta    0.565564\n",
       "Gamma    0.029048\n",
       "Vega    10.892980"
      ]
     },
     "execution_count": 17,
     "metadata": {},
     "output_type": "execute_result"
    }
   ],
   "source": [
    "put(100,110,.04,.15,.25)"
   ]
  },
  {
   "cell_type": "code",
   "execution_count": 18,
   "metadata": {},
   "outputs": [
    {
     "name": "stdout",
     "output_type": "stream",
     "text": [
      "\n",
      "    Returns the Black-Scholes Call Option Price\n",
      "    S0: Spot price at time 0\n",
      "    K: Strike price\n",
      "    r: risk-free interest rate\n",
      "    sigma: annualized volatility of the option\n",
      "    T: Time to maturity\n",
      "\n",
      "    \n"
     ]
    }
   ],
   "source": [
    "print(call.__doc__)"
   ]
  },
  {
   "cell_type": "code",
   "execution_count": 19,
   "metadata": {},
   "outputs": [],
   "source": [
    "def option(type = None, So = None, K = None, r = None, sigma = None, current_date = None, expiration_date = None):\n",
    "    no_business_days = np.busday_count(begindates = current_date, enddates = expiration_date)\n",
    "    Time = (no_business_days/252)\n",
    "    # Divide by 252 because there are 252 trading days\n",
    "    d1 = (np.log(So/K)+(r+((sigma**2)/2))*Time)/(sigma*np.sqrt(Time))\n",
    "    d2 = d1 - sigma*np.sqrt(Time)\n",
    "    present_value = K*(np.exp(-r*(Time)))\n",
    "    if type == 'Call':\n",
    "        price = So*(scs.norm.cdf(d1))-present_value*(scs.norm.cdf(d2))\n",
    "    elif type == \"Put\":\n",
    "        price = present_value*(scs.norm.cdf(-d2))-So*(scs.norm.cdf(-d1))\n",
    "    else:\n",
    "        print(\"Wrong security name\")\n",
    "    return pd.DataFrame([np.round(price,4)],columns = ['Option Price'])\n",
    "        \n",
    "        "
   ]
  },
  {
   "cell_type": "code",
   "execution_count": 20,
   "metadata": {},
   "outputs": [
    {
     "data": {
      "text/html": [
       "<div>\n",
       "<style scoped>\n",
       "    .dataframe tbody tr th:only-of-type {\n",
       "        vertical-align: middle;\n",
       "    }\n",
       "\n",
       "    .dataframe tbody tr th {\n",
       "        vertical-align: top;\n",
       "    }\n",
       "\n",
       "    .dataframe thead th {\n",
       "        text-align: right;\n",
       "    }\n",
       "</style>\n",
       "<table border=\"1\" class=\"dataframe\">\n",
       "  <thead>\n",
       "    <tr style=\"text-align: right;\">\n",
       "      <th></th>\n",
       "      <th>Option Price</th>\n",
       "    </tr>\n",
       "  </thead>\n",
       "  <tbody>\n",
       "    <tr>\n",
       "      <th>0</th>\n",
       "      <td>10.1643</td>\n",
       "    </tr>\n",
       "  </tbody>\n",
       "</table>\n",
       "</div>"
      ],
      "text/plain": [
       "   Option Price\n",
       "0       10.1643"
      ]
     },
     "execution_count": 20,
     "metadata": {},
     "output_type": "execute_result"
    }
   ],
   "source": [
    "option('Put',So = 444.49,K = 445, r = 0.05388,sigma=.1547,current_date='2023-08-11',expiration_date='2023-10-20')"
   ]
  },
  {
   "cell_type": "code",
   "execution_count": 21,
   "metadata": {},
   "outputs": [],
   "source": [
    "def fx_options(spot_fx_rate: float,strike_fx_rate:float,sigma: float ,domestic_interest: float,foreign_interest:float,domestic_currency:str, foreign_currency:str, spot_date:str,expiration_date: str, option_type:str):\n",
    "    tau = len(pd.date_range(start=spot_date,end = expiration_date))\n",
    "    if domestic_currency == 'USD':\n",
    "        t1 = tau/360\n",
    "    else:\n",
    "        t1 = tau/365\n",
    "    if foreign_currency == 'USD':\n",
    "        t2 = tau/360\n",
    "    else:\n",
    "        t2 = tau/365\n",
    "    domestic_discount = np.exp(-domestic_interest*t1)\n",
    "    foreign_discount = np.exp(-foreign_interest*t2)\n",
    "    d1 =(np.log(spot_fx_rate/strike_fx_rate)+((domestic_interest-foreign_interest)+((sigma**2)/2))*tau)/(sigma*np.sqrt(tau))\n",
    "    d2 = d1 - sigma*np.sqrt(tau)\n",
    "\n",
    "    if option_type == 'Call':\n",
    "        price = spot_fx_rate*foreign_discount*(scs.norm.cdf(d1)) - strike_fx_rate*domestic_discount*(scs.norm.cdf(d2))\n",
    "\n",
    "    elif option_type == 'Put':\n",
    "        price = strike_fx_rate*domestic_discount*(scs.norm.cdf(-d2)) -spot_fx_rate*foreign_discount*(scs.norm.cdf(-d1))\n",
    "    else:\n",
    "        print('Wrong Option Type')\n",
    "\n",
    "    return np.round(price,6)\n",
    "\n",
    "\n",
    "    \n"
   ]
  },
  {
   "cell_type": "code",
   "execution_count": 22,
   "metadata": {},
   "outputs": [
    {
     "data": {
      "text/plain": [
       "0.429888"
      ]
     },
     "execution_count": 22,
     "metadata": {},
     "output_type": "execute_result"
    }
   ],
   "source": [
    "fx_options(1.6,1.170,0.05,.0475,.0475,'EUR','GBP','2023-02-27','2023-02-28','Call')"
   ]
  },
  {
   "cell_type": "code",
   "execution_count": 23,
   "metadata": {},
   "outputs": [
    {
     "data": {
      "text/plain": [
       "0.5"
      ]
     },
     "execution_count": 23,
     "metadata": {},
     "output_type": "execute_result"
    }
   ],
   "source": [
    "scs.norm.cdf(0)"
   ]
  },
  {
   "cell_type": "code",
   "execution_count": 24,
   "metadata": {},
   "outputs": [
    {
     "data": {
      "text/html": [
       "<div>\n",
       "<style scoped>\n",
       "    .dataframe tbody tr th:only-of-type {\n",
       "        vertical-align: middle;\n",
       "    }\n",
       "\n",
       "    .dataframe tbody tr th {\n",
       "        vertical-align: top;\n",
       "    }\n",
       "\n",
       "    .dataframe thead th {\n",
       "        text-align: right;\n",
       "    }\n",
       "</style>\n",
       "<table border=\"1\" class=\"dataframe\">\n",
       "  <thead>\n",
       "    <tr style=\"text-align: right;\">\n",
       "      <th></th>\n",
       "      <th>Option Price</th>\n",
       "    </tr>\n",
       "  </thead>\n",
       "  <tbody>\n",
       "    <tr>\n",
       "      <th>0</th>\n",
       "      <td>12.5464</td>\n",
       "    </tr>\n",
       "  </tbody>\n",
       "</table>\n",
       "</div>"
      ],
      "text/plain": [
       "   Option Price\n",
       "0       12.5464"
      ]
     },
     "execution_count": 24,
     "metadata": {},
     "output_type": "execute_result"
    }
   ],
   "source": [
    "option('Call', So = 106.7,K = 95,r = .04,sigma = .5, current_date='2023-02-02',expiration_date='2023-02-17')"
   ]
  },
  {
   "cell_type": "code",
   "execution_count": 25,
   "metadata": {},
   "outputs": [
    {
     "data": {
      "text/html": [
       "<div>\n",
       "<style scoped>\n",
       "    .dataframe tbody tr th:only-of-type {\n",
       "        vertical-align: middle;\n",
       "    }\n",
       "\n",
       "    .dataframe tbody tr th {\n",
       "        vertical-align: top;\n",
       "    }\n",
       "\n",
       "    .dataframe thead th {\n",
       "        text-align: right;\n",
       "    }\n",
       "</style>\n",
       "<table border=\"1\" class=\"dataframe\">\n",
       "  <thead>\n",
       "    <tr style=\"text-align: right;\">\n",
       "      <th></th>\n",
       "      <th>Option Price</th>\n",
       "    </tr>\n",
       "  </thead>\n",
       "  <tbody>\n",
       "    <tr>\n",
       "      <th>0</th>\n",
       "      <td>17.3773</td>\n",
       "    </tr>\n",
       "  </tbody>\n",
       "</table>\n",
       "</div>"
      ],
      "text/plain": [
       "   Option Price\n",
       "0       17.3773"
      ]
     },
     "execution_count": 25,
     "metadata": {},
     "output_type": "execute_result"
    }
   ],
   "source": [
    "option('Call', So = 112,K = 95,r = .0468,sigma = .5, current_date='2023-02-03',expiration_date='2023-02-17')"
   ]
  },
  {
   "cell_type": "code",
   "execution_count": 26,
   "metadata": {},
   "outputs": [
    {
     "data": {
      "text/plain": [
       "0.4183954556526073"
      ]
     },
     "execution_count": 26,
     "metadata": {},
     "output_type": "execute_result"
    }
   ],
   "source": [
    "scs.norm.cdf(-.206)"
   ]
  }
 ],
 "metadata": {
  "kernelspec": {
   "display_name": "base",
   "language": "python",
   "name": "python3"
  },
  "language_info": {
   "codemirror_mode": {
    "name": "ipython",
    "version": 3
   },
   "file_extension": ".py",
   "mimetype": "text/x-python",
   "name": "python",
   "nbconvert_exporter": "python",
   "pygments_lexer": "ipython3",
   "version": "3.7.16"
  },
  "orig_nbformat": 4,
  "vscode": {
   "interpreter": {
    "hash": "44a761cc06a695ddb39d99b7e807436f731f960c127538853a5b90f596df33e4"
   }
  }
 },
 "nbformat": 4,
 "nbformat_minor": 2
}
