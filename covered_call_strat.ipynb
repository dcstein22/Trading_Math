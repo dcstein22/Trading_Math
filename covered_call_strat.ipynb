{
 "cells": [
  {
   "cell_type": "code",
   "execution_count": null,
   "metadata": {},
   "outputs": [],
   "source": [
    "import matplotlib as mpl\n",
    "import statsmodels.api as sm\n",
    "import matplotlib.pyplot as plt\n",
    "import sklearn.linear_model as linear_model\n",
    "import pandas as pd\n",
    "import numpy as np\n",
    "import scipy as sp\n",
    "import quandl\n",
    "quandl.api_config = 'J_fXGeVW_zC6RaDeJSQv'\n",
    "from Binomial_Fixed import portfolio_cmds\n",
    "from scipy import stats\n",
    "import plotly.express as px\n",
    "from datetime import datetime\n",
    "import warnings\n",
    "warnings.filterwarnings(\"ignore\")\n",
    "import yfinance as yfin\n",
    "import functools\n",
    "from scipy.stats import multivariate_normal\n",
    "from fredapi import Fred\n",
    "api_fred = 'caf2a437b55be8f56406870c1bed3521'\n",
    "fred = Fred(api_key= api_fred)\n",
    "from threading import Thread\n",
    "import time"
   ]
  },
  {
   "cell_type": "code",
   "execution_count": null,
   "metadata": {},
   "outputs": [],
   "source": [
    "from statsmodels.tsa.stattools import coint\n",
    "from statsmodels.api import OLS\n",
    "import statsmodels.formula.api as smf\n",
    "from scipy.stats import norm\n",
    "from statsmodels.tsa.stattools import adfuller\n",
    "from statsmodels.graphics.tsaplots import plot_acf\n",
    "\n",
    "from scipy.optimize import minimize\n",
    "import statsmodels.api as sm\n",
    "from statsmodels.tsa.stattools import acf, pacf\n",
    "import pandas as pd"
   ]
  },
  {
   "cell_type": "code",
   "execution_count": 116,
   "metadata": {},
   "outputs": [],
   "source": [
    "from ibapi.client import *\n",
    "from ibapi.wrapper import *\n",
    "from ibapi.contract import Contract"
   ]
  },
  {
   "cell_type": "code",
   "execution_count": 117,
   "metadata": {},
   "outputs": [],
   "source": [
    "\n",
    "from ibapi.common import ListOfHistoricalTick, ListOfHistoricalTickBidAsk\n",
    "\n",
    "\n",
    "class IBAPI(EClient, EWrapper):\n",
    "\n",
    "    def __init__(self, asset: str,option_vol:bool):\n",
    "        EClient.__init__(self, self)\n",
    "\n",
    "        self.price_data = []\n",
    "        self.asset = asset\n",
    "        self.option_vol = option_vol\n",
    "\n",
    "    def nextValidId(self, orderId):\n",
    "\n",
    "        self.nextorderId = orderId\n",
    "        print(f'The next order id is {self.nextorderId}.')\n",
    "\n",
    "    def error(self, reqId: TickerId, errorCode: int, errorString: str, advancedOrderRejectJson=\"\"):\n",
    "        pass\n",
    "        print(reqId, errorCode, errorString, advancedOrderRejectJson)\n",
    "\n",
    "    def historicalData(self, reqId: int, bar: BarData):\n",
    "\n",
    "        data = bar\n",
    "        if self.option_vol == True:\n",
    "            symbol = self.asset+'_Vol'\n",
    "        else:\n",
    "            symbol = self.asset\n",
    "        temp_dict = {'Date': data.date, symbol: data.close}\n",
    "\n",
    "        self.price_data.append(temp_dict)\n",
    "    def historicalTicksBidAsk(self, reqId: int, ticks: ListOfHistoricalTickBidAsk, done: bool):\n",
    "        #return super().historicalTicksBidAsk(reqId, ticks, done)\n",
    "        data = ticks\n",
    "        #temp_dict = {'Time':data.time,\"BID\":data.priceBid,\"BID_SIZE\":data.sizeBid,\"ASK\":data.priceAsk,\"ASK_SIZE\":data.sizeAsk}\n",
    "        self.price_data.append(data)\n",
    "\n",
    "    def Stock_Contract(self, asset, secType=\"STK\", exchange=\"SMART\", currency=\"USD\"):\n",
    "\n",
    "        contract = Contract()\n",
    "        contract.symbol = asset\n",
    "        contract.secType = secType\n",
    "\n",
    "        contract.currency = currency\n",
    "        contract.exchange = exchange\n",
    "\n",
    "        return contract\n",
    "    def Option_Contract(self,asset, secType = \"OPT\",exchange = \"SMART\",currency = \"USD\",strike = 437,right = \"C\",lastTradeDateOrContractMonth = \"202401\"):\n",
    "        contract = Contract()\n",
    "        contract.conId = 657206068\n",
    "        contract.exchange = exchange\n",
    "        \"\"\"\n",
    "        contract.symbol = asset\n",
    "        contract.secType = secType\n",
    "        contract.currency = currency\n",
    "        contract.exchange = exchange\n",
    "        \n",
    "        contract.strike = strike\n",
    "        contract.right = right\n",
    "        contract.lastTradeDateOrContractMonth = lastTradeDateOrContractMonth\n",
    "        \"\"\"\n",
    "        return contract\n",
    "\n",
    "    def format_date_col(self, date):\n",
    "        date = date.split()\n",
    "        new_d = str(date[0]+' '+date[1])\n",
    "        stamp = datetime.strptime(new_d, '%Y%m%d %H:%M:%S')\n",
    "        new = stamp.strftime('%m/%d/%y %H:%M:%S')\n",
    "        return new\n",
    "    def format_date2(self,date):\n",
    "        date = str(date)\n",
    "        stamp = datetime.strptime(date, \"%Y%m%d\")\n",
    "        new = stamp.strftime(\"%Y-%m-%d\")\n",
    "        return new\n",
    "\n",
    "\n",
    "class DataHandler(IBAPI):\n",
    "\n",
    "    def __init__(self, asset, host, socket, id,option_vol):\n",
    "\n",
    "        IBAPI.__init__(self, asset=asset,option_vol = option_vol)\n",
    "\n",
    "        self.host = host\n",
    "        self.socket = socket\n",
    "        self.id = id\n",
    "        self.option_vol = option_vol\n",
    "\n",
    "    def run_loop(self):\n",
    "\n",
    "        self.run()\n",
    "\n",
    "    def stop_loop(self):\n",
    "\n",
    "        print('Disconnecting...')\n",
    "        self.disconnect()\n",
    "\n",
    "    def connect_and_request(self):\n",
    "\n",
    "        host = self.host\n",
    "        socket = self.socket\n",
    "        id = self.id\n",
    "        self.connect(host=host, port=socket, clientId=id)\n",
    "\n",
    "        api_thread = Thread(target=self.run_loop, daemon=True)\n",
    "        api_thread.start()\n",
    "        time.sleep(.3)\n",
    "        # Sleep interval to allow time for connection to server\n",
    "        \n",
    "        mycontract = self.Stock_Contract(asset=self.asset)\n",
    "        #mycontract = self.Option_Contract(asset = self.asset)\n",
    "        print(f\"Requesting data for {self.asset}.\")\n",
    "        if self.option_vol == True:\n",
    "\n",
    "            self.reqHistoricalData(reqId=1, contract=mycontract, endDateTime=\"\", durationStr='9 Y',barSizeSetting='1 day',\\\n",
    "                                    useRTH=1, formatDate=1, keepUpToDate=0, whatToShow='OPTION_IMPLIED_VOLATILITY', chartOptions=[])\n",
    "        else:\n",
    "            \n",
    "            self.reqHistoricalData(reqId=1, contract=mycontract, endDateTime=\"\", durationStr='1 Y',\n",
    "                    barSizeSetting='30 mins', useRTH=1, formatDate=1, keepUpToDate=0, whatToShow='TRADES', chartOptions=[])\n",
    "            \n",
    "\n",
    "\n",
    "\n",
    "        time.sleep(8)\n",
    "\n",
    "        self.stop_loop()\n",
    "\n",
    "    def historical_dataframe(self):\n",
    "\n",
    "        df = pd.DataFrame(self.price_data)\n",
    "\n",
    "        df['Date'] = pd.to_datetime(df['Date'].map(self.format_date2))\n",
    "  \n",
    "        return df.set_index('Date',drop = True)\n",
    "      \n",
    "        \n",
    "        \n",
    "        \n",
    "\n",
    "class MASTER(DataHandler, IBAPI):\n",
    "\n",
    "    def __init__(self, asset: str,option_vol: bool):\n",
    "        \"\"\"\n",
    "        asset: enter a string 'SPY'\n",
    "        option_vol: enter True if you want historical implied volatility\n",
    "\n",
    "        \"\"\"\n",
    "\n",
    "        self.host = '127.0.0.1'\n",
    "        self.socket = 7496\n",
    "        self.id = 37125\n",
    "        self.option_vol = option_vol\n",
    "\n",
    "        DataHandler.__init__(self, asset=asset, host=self.host,\n",
    "                             socket=self.socket, id=self.id, option_vol=self.option_vol)"
   ]
  },
  {
   "cell_type": "code",
   "execution_count": 283,
   "metadata": {},
   "outputs": [],
   "source": [
    "class Contract:\n",
    "\n",
    "    def __init__(self,S0,K,R,Sigma,T):\n",
    "        \"\"\"\n",
    "        Class defines GBM contract\n",
    "        S0: Spot price at time 0\n",
    "        K: Strike price\n",
    "        R: risk-free interest rate\n",
    "        Sigma: annualized volatility of the option\n",
    "        T: Time to maturity\n",
    "\n",
    "        \"\"\"\n",
    "        self.S0 = S0\n",
    "        self.K = K\n",
    "        self.R = R\n",
    "        self.Sigma = Sigma\n",
    "        self.T = T\n",
    "    def update_T(self,new_T:float):\n",
    "\n",
    "        self.T = new_T\n",
    "    def update_spot(self, Spot:float):\n",
    "        self.S0 = Spot\n",
    "    def update_rf(self, rf:float):\n",
    "        self.R = rf\n",
    "    def update_iv(self, IV:float):\n",
    "        self.Sigma = IV\n",
    "class CALL(Contract):\n",
    "\n",
    "    def __init__(self,S0,K,R,Sigma,T):\n",
    "\n",
    "        Contract.__init__(self,S0,K,R,Sigma,T)\n",
    "\n",
    "class PUT(Contract):\n",
    "\n",
    "    def __init__(self,S0,K,R,Sigma,T):\n",
    "\n",
    "        Contract.__init__(self,S0,K,R,Sigma,T)\n",
    "\n",
    "class Option_Pricer:\n",
    "\n",
    "    def __init__(self,contract):\n",
    "\n",
    "        \"\"\"\n",
    "        contract: use the CALL or PUT derived classes to defined the contract\n",
    "\n",
    "        \"\"\"\n",
    "\n",
    "        self.contract = contract\n",
    "        self.S0, self.K, self.R, self.Sigma, self.T = contract.S0,contract.K,contract.R,contract.Sigma, contract.T\n",
    "        self.Type = self.contract.__class__.__name__\n",
    "\n",
    "    def d1(self):\n",
    "        D1 = (np.log(self.S0/self.K)+(self.R+ .5*self.Sigma**2)*self.T)/(self.Sigma*np.sqrt(self.T))\n",
    "        return D1\n",
    "    def d2(self):\n",
    "        d_1 = self.d1()\n",
    "        D2 = d_1 - self.Sigma*np.sqrt(self.T) \n",
    "        return D2\n",
    "    def pv(self):\n",
    "        return self.K*np.exp(-self.R*self.T)\n",
    "\n",
    "    def __str__(self):\n",
    "\n",
    "        return (f\"{self.Type} option contract with strike {self.K} and volatility {self.Sigma}.\")\n",
    "        \n",
    "    def price_derivative(self):\n",
    "        D1 = self.d1()\n",
    "        D2 = self.d2()\n",
    "        PV = self.pv()\n",
    "\n",
    "        if self.Type == 'CALL':\n",
    "\n",
    "            return self.S0*stats.norm.cdf(D1)- PV*stats.norm.cdf(D2)\n",
    "        else:\n",
    "\n",
    "            return PV*stats.norm.cdf(-D2)-self.S0*stats.norm.cdf(-D1)\n",
    "\n",
    "    def plot_contract(self):\n",
    "        prices = self.price_derivative()\n",
    "\n",
    "        if len(prices) <= 1:\n",
    "            raise Exception('Cannot Graph 1 Price.')\n",
    "        DF = pd.DataFrame(prices, index = self.S0, columns = [f\"{self.Type}(K = {self.K})\"])\n",
    "        DF.index.name = 'Spot Price'\n",
    "\n",
    "        fig = px.line(DF).update_layout(yaxis_title = 'Derivative Price')\n",
    "\n",
    "        return fig\n",
    "\n",
    "    def plot_delta(self):\n",
    "        title = f\"{self.Type}(K = {self.K}, T = {self.T},vol = {self.Sigma},r = {self.R})\"\n",
    "        Deltas = self.delta()\n",
    "        DF = pd.DataFrame(Deltas,index = self.S0, columns = [f\"{self.Type}(K = {self.K})\"])\n",
    "        DF.index.name = 'Spot Price'\n",
    "\n",
    "        fig = px.line(DF,title = title).update_layout(yaxis_title = \"Delta\")\n",
    "        fig.add_shape(type ='line',x0 = self.K,x1 = self.K,y0= np.where(self.Type == 'CALL',0,-100),y1=np.where(self.Type == \"CALL\",100,0), line = dict(color = \"red\"),name = 'Strike')\n",
    "\n",
    "        return fig\n",
    "    def plot_gamma(self):\n",
    "\n",
    "        title = f\"{self.Type}(K = {self.K}, T = {self.T},vol = {self.Sigma},r = {self.R})\"\n",
    "        gammas = self.gamma()\n",
    "        DF = pd.DataFrame(gammas,index = self.S0, columns = [f\"{self.Type}(K = {self.K})\"])\n",
    "        DF.index.name = 'Spot Price'\n",
    "        gamma_max = max(gammas)\n",
    "        fig = px.line(DF,title = title).update_layout(yaxis_title = \"Gamma\")\n",
    "        fig.add_shape(type ='line',x0 = self.K,x1 = self.K,y0=0,y1=gamma_max+1, line = dict(color = \"red\"),name = 'Strike')\n",
    "\n",
    "\n",
    "        return fig\n",
    "    def plot_vega(self):\n",
    "        title = f\"{self.Type}(K = {self.K}, T = {self.T},vol = {self.Sigma},r = {self.R})\"\n",
    "        vegas = self.vega()\n",
    "        DF = pd.DataFrame(vegas,index = self.S0, columns = [f\"{self.Type}(K = {self.K})\"])\n",
    "        DF.index.name = 'Spot Price'\n",
    "        vega_max = max(vegas)\n",
    "        fig = px.line(DF,title = title).update_layout(yaxis_title = \"Vega\")\n",
    "        fig = fig.add_shape(type ='line',x0 = self.K,x1 = self.K,y0=0,y1=vega_max+1, line = dict(color = \"red\"),name = 'Strike')\n",
    "\n",
    "        return fig\n",
    "    def delta(self):\n",
    "        if self.Type == 'CALL':\n",
    "            return stats.norm.cdf(self.d1())\n",
    "        else:\n",
    "            return -stats.norm.cdf(-self.d1())\n",
    "    def gamma(self):\n",
    "\n",
    "        return stats.norm.pdf(self.d1())/(self.S0*self.Sigma*np.sqrt(self.T))\n",
    "\n",
    "    def vega(self):\n",
    "\n",
    "        return self.S0*np.sqrt(self.T)*stats.norm.pdf(self.d1())\n",
    "    def theta(self):\n",
    "        if self.Type == 'CALL':\n",
    "            return ((-self.S0*stats.norm.pdf(self.d1()) * self.Sigma)/(2*np.sqrt(self.T)) - self.R * self.K*np.exp(-self.R*self.T) * stats.norm.cdf(self.d2()))/365\n",
    "        else:\n",
    "            return ((-self.S0*stats.norm.pdf(self.d1()) * self.Sigma)/(2*np.sqrt(self.T)) +self.R * self.K*np.exp(-self.R*self.T) * stats.norm.cdf(-self.d2()))/365\n",
    "\n",
    "            # Divide Theta by 252 trading days\n",
    "    def return_values(self):\n",
    "\n",
    "        price = self.price_derivative()\n",
    "        delta =self.delta()\n",
    "        gamma = self.gamma()\n",
    "        vega = self.vega()\n",
    "        theta = self.theta()\n",
    "        vals = np.array([price,delta,gamma,vega,theta])\n",
    "        df = pd.DataFrame([vals],columns = ['Price','Delta','Gamma','Vega','Theta'],index = [f'{self.Type}(K = {self.K})'])\n",
    "        return df\n",
    "\n",
    "\n",
    "        \n"
   ]
  },
  {
   "cell_type": "code",
   "execution_count": 150,
   "metadata": {},
   "outputs": [],
   "source": [
    "class PRICESERIES:\n",
    "\n",
    "    def __init__(self,tickers:list,start, end,IV_DF:pd.DataFrame):\n",
    "        self.start = start\n",
    "        self.end = end\n",
    "        self.tickers = tickers\n",
    "        self.voldf = IV_DF\n",
    "    \n",
    "    @functools.lru_cache(maxsize=3000)\n",
    "    def fetch_spot(self):\n",
    "        ticker = self.tickers\n",
    "        adj_prices = pd.DataFrame()\n",
    "        for asset in ticker:\n",
    "            temp = quandl.get_table('QUOTEMEDIA/PRICES', ticker = [asset],\\\n",
    "            qopts = {\"columns\":['ticker','date','adj_close']}, date = {'gte':self.start, 'lte':self.end},api_key='J_fXGeVW_zC6RaDeJSQv').set_index('date')\n",
    "            adj_prices = pd.concat([adj_prices,temp],axis = 0)\n",
    "        adj_prices.index = pd.to_datetime(adj_prices.index)\n",
    "        return adj_prices.pivot_table(values = 'adj_close',columns='ticker',index = adj_prices.index)\n",
    "    \n",
    "    @functools.lru_cache(maxsize=3000)\n",
    "    def getvix(self):\n",
    "    \n",
    "        df = yfin.download(tickers = '^VIX',start=self.start, end = self.end)[['Adj Close']]\n",
    "        df.rename(columns = {'Adj Close':'VIX'},inplace = True)\n",
    "        return df\n",
    "    @functools.lru_cache(maxsize = 3000)\n",
    "    def return_priceseries(self):\n",
    "     \n",
    "        stockp = self.fetch_spot()\n",
    "        vixp = self.getvix()\n",
    "        return stockp.merge(vixp,how = 'inner',left_index = True,right_index=True)\n",
    "    def pull_fred(self):\n",
    "        \n",
    "        onemonth = pd.DataFrame(fred.get_series(\"DGS1MO\",observation_start=self.start,observation_end=self.end),columns=['ONE_M'])*1e-2\n",
    "\n",
    "\n",
    "        return onemonth.dropna()\n",
    "\n",
    "    \n",
    "    def get_rets(self):\n",
    "\n",
    "        prices = self.return_priceseries()\n",
    "        rets = prices.pct_change().dropna()\n",
    "        return rets.drop(columns='VIX')\n",
    "    def get_rollingvols(self):\n",
    "        vix = self.return_priceseries()[['VIX']]*1e-2\n",
    "        rets = self.get_rets()\n",
    "        retsvol = rets.rolling(window = 30).std()*np.sqrt(252)\n",
    "        sigmadf = retsvol.merge(vix, how = 'inner',left_index = True, right_index = True)\n",
    "        sigmadf.columns = [f\"{i}_Vol\" for i in sigmadf.columns]\n",
    "        return sigmadf.dropna()\n",
    "    \n",
    "    @functools.lru_cache(maxsize = 4000)      \n",
    "    def get_designmat(self):\n",
    "        treas = self.pull_fred()\n",
    "        rets = self.get_rets()\n",
    "        vols = self.get_rollingvols()[[\"VIX_Vol\"]]\n",
    "        vix = self.return_priceseries()[['VIX']]*1e-2\n",
    "        vix.columns = ['VIX_Vol']\n",
    "        volitility_df = self.voldf\n",
    "        DF = rets.merge(volitility_df, how ='inner',left_index=True, right_index=True)\n",
    "        DF = DF.merge(vix, how ='inner',left_index=True, right_index=True)\n",
    "        DF = DF.merge(treas, how = 'left',left_index=True, right_index=True).ffill()\n",
    "        return DF.sort_index()\n",
    "    def volatility_function(self):\n",
    "        fullmat = self.get_designmat()\n",
    "        parameters = pd.DataFrame()\n",
    "        for stock in self.tickers:\n",
    "            \n",
    "            formula = f\"{stock}_Vol ~ {stock} + VIX_Vol\"\n",
    "            model = smf.ols(formula=formula,data = fullmat).fit()\n",
    "            parameters.loc[stock,'Model'] = model\n",
    "\n",
    "        return parameters\n",
    "    def return_volparms(self):\n",
    "        df =pd.DataFrame()\n",
    "        paramDF = self.volatility_function()\n",
    "        for stock in paramDF.index:\n",
    "            temp = pd.DataFrame(paramDF.loc[stock,'Model'].params,columns =[stock])\n",
    "            df = pd.concat([df,temp],axis = 1)\n",
    "        return df.fillna(0)\n",
    "\n",
    "stocks = ['SPY','AMZN','AAPL','TSLA','MSFT']\n",
    "#pricedf = fetch_spot(ticker=stocks, end_date=datetime.now())\n",
    "\n",
    "#RETS = PRICESERIES(pricDF=pricedf).get_rets()"
   ]
  },
  {
   "cell_type": "code",
   "execution_count": null,
   "metadata": {},
   "outputs": [],
   "source": [
    "Option_Vol = {}\n",
    "\n",
    "\n",
    "for t in stocks:\n",
    "    temp = MASTER(asset=t, option_vol=True)\n",
    "    temp.connect_and_request()\n",
    "    Option_Vol[t+'_Vol'] = temp.historical_dataframe()"
   ]
  },
  {
   "cell_type": "code",
   "execution_count": 118,
   "metadata": {},
   "outputs": [],
   "source": [
    "def stitch_voldf(VOLS:dict):\n",
    "    DF = pd.DataFrame()\n",
    "    for i in VOLS.keys():\n",
    "        temp = VOLS[i]\n",
    "        DF = pd.concat([temp,DF],axis =1)\n",
    "    return DF\n",
    "VOLDF = stitch_voldf(VOLS=Option_Vol)"
   ]
  },
  {
   "cell_type": "code",
   "execution_count": 151,
   "metadata": {},
   "outputs": [
    {
     "name": "stdout",
     "output_type": "stream",
     "text": [
      "[*********************100%%**********************]  1 of 1 completed\n"
     ]
    }
   ],
   "source": [
    "# Getting Data\n",
    "pricedf = PRICESERIES(tickers = stocks, start = '2015-01-01',end = datetime.now(),IV_DF=VOLDF)\n",
    "prices = pricedf.return_priceseries()\n",
    "RETS = pricedf.get_rets()\n",
    "sigmaDF = pricedf.get_rollingvols()\n",
    "rf = pricedf.pull_fred()\n",
    "FULLDF = pricedf.get_designmat()\n",
    "volfunct = pricedf.volatility_function()\n",
    "paramdata = pricedf.return_volparms()"
   ]
  },
  {
   "cell_type": "code",
   "execution_count": 172,
   "metadata": {},
   "outputs": [
    {
     "data": {
      "text/plain": [
       "2015-01-05    0.167884\n",
       "2015-01-06    0.178177\n",
       "2015-01-07    0.160676\n",
       "2015-01-08    0.139711\n",
       "2015-01-09    0.146021\n",
       "                ...   \n",
       "2023-12-13    0.096628\n",
       "2023-12-14    0.099833\n",
       "2023-12-15    0.098310\n",
       "2023-12-18    0.100415\n",
       "2023-12-19    0.100119\n",
       "Length: 2256, dtype: float64"
      ]
     },
     "execution_count": 172,
     "metadata": {},
     "output_type": "execute_result"
    }
   ],
   "source": [
    "volfunct.loc['SPY','Model'].predict(FULLDF[['SPY','VIX_Vol']])"
   ]
  },
  {
   "cell_type": "code",
   "execution_count": 258,
   "metadata": {},
   "outputs": [
    {
     "data": {
      "text/plain": [
       "Intercept    0.081454\n",
       "MSFT        -0.150882\n",
       "VIX_Vol      0.870056\n",
       "dtype: float64"
      ]
     },
     "execution_count": 258,
     "metadata": {},
     "output_type": "execute_result"
    }
   ],
   "source": [
    "volfunct.loc['MSFT','Model'].params"
   ]
  },
  {
   "cell_type": "code",
   "execution_count": 140,
   "metadata": {},
   "outputs": [],
   "source": [
    "monthend = pd.date_range(start = '2015-02-01',end = '2023-11-30',freq = 'M')\n",
    "monthstart = pd.date_range(start = '2015-02-01',end = '2023-11-30',freq = 'MS')\n"
   ]
  },
  {
   "cell_type": "code",
   "execution_count": 192,
   "metadata": {},
   "outputs": [],
   "source": [
    "MONTHS = {date.strftime(\"%b\"):date.month for date in monthend}"
   ]
  },
  {
   "cell_type": "code",
   "execution_count": 194,
   "metadata": {},
   "outputs": [
    {
     "data": {
      "text/html": [
       "<div>\n",
       "<style scoped>\n",
       "    .dataframe tbody tr th:only-of-type {\n",
       "        vertical-align: middle;\n",
       "    }\n",
       "\n",
       "    .dataframe tbody tr th {\n",
       "        vertical-align: top;\n",
       "    }\n",
       "\n",
       "    .dataframe thead th {\n",
       "        text-align: right;\n",
       "    }\n",
       "</style>\n",
       "<table border=\"1\" class=\"dataframe\">\n",
       "  <thead>\n",
       "    <tr style=\"text-align: right;\">\n",
       "      <th></th>\n",
       "      <th>AAPL</th>\n",
       "      <th>AMZN</th>\n",
       "      <th>MSFT</th>\n",
       "      <th>SPY</th>\n",
       "      <th>TSLA</th>\n",
       "      <th>VIX</th>\n",
       "    </tr>\n",
       "  </thead>\n",
       "  <tbody>\n",
       "    <tr>\n",
       "      <th>2015-01-02</th>\n",
       "      <td>24.465118</td>\n",
       "      <td>15.388936</td>\n",
       "      <td>40.588919</td>\n",
       "      <td>174.649358</td>\n",
       "      <td>14.620667</td>\n",
       "      <td>17.790001</td>\n",
       "    </tr>\n",
       "    <tr>\n",
       "      <th>2015-01-05</th>\n",
       "      <td>23.775897</td>\n",
       "      <td>15.073197</td>\n",
       "      <td>40.211328</td>\n",
       "      <td>171.495253</td>\n",
       "      <td>14.006000</td>\n",
       "      <td>19.920000</td>\n",
       "    </tr>\n",
       "    <tr>\n",
       "      <th>2015-01-06</th>\n",
       "      <td>23.778135</td>\n",
       "      <td>14.729025</td>\n",
       "      <td>39.625410</td>\n",
       "      <td>169.879945</td>\n",
       "      <td>14.085333</td>\n",
       "      <td>21.120001</td>\n",
       "    </tr>\n",
       "    <tr>\n",
       "      <th>2015-01-07</th>\n",
       "      <td>24.111557</td>\n",
       "      <td>14.885149</td>\n",
       "      <td>40.128865</td>\n",
       "      <td>171.996848</td>\n",
       "      <td>14.063333</td>\n",
       "      <td>19.309999</td>\n",
       "    </tr>\n",
       "    <tr>\n",
       "      <th>2015-01-08</th>\n",
       "      <td>25.037978</td>\n",
       "      <td>14.986904</td>\n",
       "      <td>41.309381</td>\n",
       "      <td>175.048936</td>\n",
       "      <td>14.041000</td>\n",
       "      <td>17.010000</td>\n",
       "    </tr>\n",
       "  </tbody>\n",
       "</table>\n",
       "</div>"
      ],
      "text/plain": [
       "                 AAPL       AMZN       MSFT         SPY       TSLA        VIX\n",
       "2015-01-02  24.465118  15.388936  40.588919  174.649358  14.620667  17.790001\n",
       "2015-01-05  23.775897  15.073197  40.211328  171.495253  14.006000  19.920000\n",
       "2015-01-06  23.778135  14.729025  39.625410  169.879945  14.085333  21.120001\n",
       "2015-01-07  24.111557  14.885149  40.128865  171.996848  14.063333  19.309999\n",
       "2015-01-08  25.037978  14.986904  41.309381  175.048936  14.041000  17.010000"
      ]
     },
     "execution_count": 194,
     "metadata": {},
     "output_type": "execute_result"
    }
   ],
   "source": [
    "prices.head()\n"
   ]
  },
  {
   "cell_type": "code",
   "execution_count": 677,
   "metadata": {},
   "outputs": [],
   "source": [
    "def simulate(ret_voldf:pd.DataFrame,price_df:pd.DataFrame,stock_tickers:list,monthstarts, monthends,volatility_functions):\n",
    "    \"\"\"\n",
    "    ret_voldf: contains daily returns and implied volatilities of options\n",
    "    price_df: contains daily prices of the underlyings\n",
    "    stock_tickers: contains the stock symbols of the underlyings\n",
    "    monthstarts: the dates of which the trading strategy begins\n",
    "    monthends: the dates of which the trading strategy in that month ends\n",
    "    volatility_functions: use function to price implied volatlity     \n",
    "    \"\"\"\n",
    "    pass\n",
    "def roundtoquarter(num_):\n",
    "    return round(num_*4)/4\n",
    "def strike(IV:float,price_stock:float):\n",
    "    \"\"\"\n",
    "    Returns the strike price of the option such that it is above 1.70 standard deviations away from underlying price\n",
    "\n",
    "    \"\"\"\n",
    "    IV = IV*(1/np.sqrt(12))\n",
    "    ivmove = 1.65*IV\n",
    "    K = price_stock*(1+ivmove)\n",
    "    return roundtoquarter(K)\n",
    "\n",
    "def volname(stockname):\n",
    "    \"\"\"returns a string corresponding to the name of the volatility column\"\"\"\n",
    "    volsdictionary = {stock:stock+\"_Vol\" for stock in prices.columns}\n",
    "    return volsdictionary[stockname]\n",
    "alpha = 0.1\n",
    "beta = 0.1\n",
    "def volatility_surface(moneyness:float,time_to_maturity:float,atm_vol:float):\n",
    "\n",
    "    \"\"\"\n",
    "\n",
    "    moneyness: K/S\n",
    "    time_to_maturity: T\n",
    "    returns a rough estimate of the implied volatility given location on volatility surface\n",
    "\n",
    "    \"\"\"\n",
    "    vol = atm_vol + alpha*(time_to_maturity) + beta*(moneyness-1)**(2)\n",
    "    return vol\n",
    "def calculate_call_contracts(ret_voldf:pd.DataFrame,price_df:pd.DataFrame,initial_date,stocks:list):\n",
    "    \"\"\"\n",
    "    returns a dictionary of call option objects\n",
    "\n",
    "    \"\"\"\n",
    "    OBJ = dict()\n",
    "\n",
    "    T = (price_df.index[-1]-price_df.index[0]).days/365\n",
    "    I_prices = price_df.loc[initial_date]\n",
    "    I_retvols =ret_voldf.loc[initial_date]\n",
    "    rf = I_retvols['ONE_M']\n",
    "    for ticker in stocks:\n",
    "        spot = I_prices[ticker]\n",
    "        atmvol = I_retvols[volname(ticker)]\n",
    "        K = strike(IV = atmvol,price_stock=spot)\n",
    "        money_ness = K/spot\n",
    "        opt_iv = volatility_surface(moneyness=money_ness,time_to_maturity=T,atm_vol=atmvol)\n",
    "        deriv = CALL(S0=spot,K = K, R = rf,Sigma=opt_iv, T = T)\n",
    "        OBJ[ticker] = deriv\n",
    "    return  OBJ\n",
    "def calculate_new_cons(spot_price,Tmat:float,strike_price:float,RF,implied_vol):\n",
    "\n",
    "    newderiv = CALL(S0 = spot_price,K = strike_price,R = RF,Sigma = implied_vol, T = Tmat)\n",
    "    return newderiv\n",
    "\n",
    "\n",
    "\n",
    "\n",
    "def number_of_contracts(initial_prices:pd.DataFrame,capital = 1000):\n",
    "\n",
    "    prices = initial_prices\n",
    "    allocation = capital/len(prices)\n",
    "    wt = allocation/prices\n",
    "    wt.columns = ['N']\n",
    "    return wt\n",
    "    \n",
    "    "
   ]
  },
  {
   "cell_type": "code",
   "execution_count": 666,
   "metadata": {},
   "outputs": [],
   "source": [
    "firstfeb = FULLDF.loc[monthstart[0]:monthend[0]]\n",
    "prcsfeb = prices.loc[monthstart[0]:monthend[0]]\n",
    "\n",
    "def initialize_option_month(ret_voldf:pd.DataFrame,price_df:pd.DataFrame,stock_tickers:list,capital = 10e6):\n",
    "    # create the initial securities and save them in a dictionary\n",
    "    initaldate = price_df.index[0]\n",
    "    calloptions = calculate_call_contracts(ret_voldf=ret_voldf,price_df=price_df,initial_date=initaldate,stocks = stock_tickers)\n",
    "    initialprices = {stock:Option_Pricer(calloptions[stock]).price_derivative() for stock in calloptions.keys()}\n",
    "    initialprices = pd.DataFrame.from_dict(initialprices,orient = 'index',columns=['Price'])\n",
    "\n",
    "    N = number_of_contracts(initial_prices=initialprices)\n",
    "    \n",
    "    return initialprices,N,calloptions\n",
    "\n",
    "\n",
    "def portfolio_process(ret_voldf:pd.DataFrame,price_df:pd.DataFrame,stock_tickers:list, contractprices:pd.DataFrame,N_contracts:pd.DataFrame,contract_definitions:dict,capital =10e6):\n",
    "    scalar = 100\n",
    "    price_processdf = pd.DataFrame(index= price_df.index,columns=stock_tickers).fillna(0)\n",
    "   \n",
    "    initial_cons = {stock:Option_Pricer(contract_definitions[stock]).delta() for stock in contract_definitions.keys()}\n",
    "    #initial_delta = {stock: (initial_cons[stock]).return_values() for stock in stock_tickers}\n",
    "    initial_delta = pd.DataFrame.from_dict(initial_cons,orient = 'index',columns=['Delta'])\n",
    "\n",
    "    PORTFOLIO = pd.DataFrame(index = price_df.index,columns=['MV'])\n",
    "    DELTA = pd.DataFrame(index= price_df.index, columns =stock_tickers).fillna(0)\n",
    "    DELTA.iloc[0] = -((np.array(N_contracts)*initial_delta).T).values.flatten()\n",
    "    \n",
    "    PORTFOLIO.iloc[0] = -(N_contracts.T @ contractprices).values.flatten()[0]\n",
    "\n",
    "    newprices = dict()\n",
    "    newdeltas = dict()\n",
    "    lastT = price_processdf.index[-1]\n",
    "    CONS = contract_definitions\n",
    "    price_processdf.iloc[0] = contractprices.T\n",
    "\n",
    "\n",
    "\n",
    "    for day in price_processdf.index:\n",
    "        # skip the first day\n",
    "        if day == price_df.index[0]:\n",
    "            continue\n",
    "      \n",
    "        tempvoldf = ret_voldf.loc[day]\n",
    "    \n",
    "        tempprice = price_df.loc[day]\n",
    "\n",
    "        rf = tempvoldf['ONE_M']\n",
    "\n",
    "        Tmat = (lastT-day).days/365\n",
    "\n",
    "        for stock in stock_tickers:\n",
    "\n",
    "            \n",
    "            tempcontract = CONS[stock]\n",
    "            atmvol = tempvoldf[volname(stock)]\n",
    "            \n",
    "            strike_price= CONS[stock].K\n",
    "\n",
    "            spot =tempprice[stock]\n",
    "            M = strike_price/spot\n",
    "            optiv = volatility_surface(moneyness=M, time_to_maturity=Tmat, atm_vol=atmvol)\n",
    "            CONS[stock] = calculate_new_cons(spot_price=spot,Tmat = Tmat, RF = rf,implied_vol=optiv,strike_price=strike_price)\n",
    "            newprices[stock] = np.round(Option_Pricer(CONS[stock]).price_derivative(),4)\n",
    "            newdeltas[stock] = Option_Pricer(CONS[stock]).delta()\n",
    "        #newprices[day] = Option_Pricer(contract_definitions[stock].price_derivative())\n",
    "        \n",
    "        tempdf = pd.DataFrame.from_dict(newprices,orient='index',columns=['Price'])\n",
    "        tempdf_delta = pd.DataFrame.from_dict(newdeltas,orient ='index',columns=['Delta'])\n",
    "        \n",
    "        price_processdf.loc[day] = (tempdf.T).values\n",
    "        PORTFOLIO.loc[day] = -1*(N_contracts.T @ tempdf).values.flatten()[0]\n",
    "        DELTA.loc[day] = -((np.array(N_contracts)*tempdf_delta).T).values.flatten()\n",
    "\n",
    "    FINALP =price_processdf.merge(PORTFOLIO,how = 'inner',left_index =True, right_index = True)\n",
    "    FINALP['PNL'] = FINALP['MV'].diff()\n",
    "    FINALP['RET'] = -(FINALP[\"MV\"].pct_change())\n",
    "    FINALP['CUMULATIVE_PNL'] = FINALP['PNL'].cumsum()\n",
    "\n",
    "    return FINALP.fillna(0)*scalar,np.round(DELTA,5)\n",
    "\n",
    "\n",
    "    \n",
    "    \n"
   ]
  },
  {
   "cell_type": "markdown",
   "metadata": {},
   "source": [
    "    def update_T(self,new_T:float):\n",
    "\n",
    "        self.T = new_T\n",
    "    def update_spot(self, Spot:float):\n",
    "        self.S0 = Spot\n",
    "    def update_rf(self, rf:float):\n",
    "        self.R = rf\n",
    "    def update_iv(self, IV:float):\n",
    "        self.Sigma = IV"
   ]
  },
  {
   "cell_type": "code",
   "execution_count": 589,
   "metadata": {},
   "outputs": [],
   "source": [
    "pces,N ,CONTRACTS=initialize_option_month(ret_voldf=firstfeb,price_df=prcsfeb,stock_tickers=stocks)\n",
    "#pcar = np.array(list(pces.values()))"
   ]
  },
  {
   "cell_type": "code",
   "execution_count": 611,
   "metadata": {},
   "outputs": [],
   "source": [
    "PNLS,delta_p = portfolio_process(ret_voldf=firstfeb,price_df=prcsfeb,stock_tickers=stocks,contract_definitions=CONTRACTS,N_contracts=N,contractprices=pces)"
   ]
  },
  {
   "cell_type": "code",
   "execution_count": 615,
   "metadata": {},
   "outputs": [
    {
     "data": {
      "text/plain": [
       "DatetimeIndex(['2015-02-28', '2015-03-31', '2015-04-30', '2015-05-31',\n",
       "               '2015-06-30', '2015-07-31', '2015-08-31', '2015-09-30',\n",
       "               '2015-10-31', '2015-11-30',\n",
       "               ...\n",
       "               '2023-02-28', '2023-03-31', '2023-04-30', '2023-05-31',\n",
       "               '2023-06-30', '2023-07-31', '2023-08-31', '2023-09-30',\n",
       "               '2023-10-31', '2023-11-30'],\n",
       "              dtype='datetime64[ns]', length=106, freq='M')"
      ]
     },
     "execution_count": 615,
     "metadata": {},
     "output_type": "execute_result"
    }
   ],
   "source": [
    "monthstart\n",
    "monthend"
   ]
  },
  {
   "cell_type": "code",
   "execution_count": 678,
   "metadata": {},
   "outputs": [],
   "source": [
    "def simulation_(monthend,monthstart,PRICES_DF,VOLS_DF,stock_tickers):\n",
    "    monthly_dict = dict()\n",
    "    final_p = pd.DataFrame()\n",
    "    for i in range(len(monthend)):\n",
    "        PRICES_subset = PRICES_DF.loc[monthstart[i]:monthend[i]]\n",
    "        VOLS_subset = VOLS_DF.loc[monthstart[i]:monthend[i]]\n",
    "        key = monthend[i].strftime(\"%b-%y\")\n",
    "        \n",
    "        contract_p, Nc,CON_DEF = initialize_option_month(ret_voldf=VOLS_subset,price_df=PRICES_subset,stock_tickers=stock_tickers)\n",
    "\n",
    "        PNLS_t, delta_t = portfolio_process(ret_voldf=VOLS_subset,price_df=PRICES_subset,stock_tickers=stock_tickers,contract_definitions=CON_DEF,N_contracts=Nc,contractprices=contract_p)\n",
    "        monthly_dict[key] = PNLS_t\n",
    "        final_p.loc[key,'Profit'] = PNLS_t.iloc[-1]['CUMULATIVE_PNL']\n",
    "        final_p.loc[key,'ROC'] = (PNLS_t.iloc[-1]['MV']-PNLS_t.iloc[0]['MV'])/(abs(PNLS_t.iloc[0]['MV']))\n",
    "    final_p['cumulative_profit'] = final_p['Profit'].cumsum()\n",
    "    return final_p, monthly_dict\n",
    "\n",
    "        "
   ]
  },
  {
   "cell_type": "code",
   "execution_count": 624,
   "metadata": {},
   "outputs": [
    {
     "data": {
      "text/html": [
       "<div>\n",
       "<style scoped>\n",
       "    .dataframe tbody tr th:only-of-type {\n",
       "        vertical-align: middle;\n",
       "    }\n",
       "\n",
       "    .dataframe tbody tr th {\n",
       "        vertical-align: top;\n",
       "    }\n",
       "\n",
       "    .dataframe thead th {\n",
       "        text-align: right;\n",
       "    }\n",
       "</style>\n",
       "<table border=\"1\" class=\"dataframe\">\n",
       "  <thead>\n",
       "    <tr style=\"text-align: right;\">\n",
       "      <th></th>\n",
       "      <th>AAPL</th>\n",
       "      <th>AMZN</th>\n",
       "      <th>MSFT</th>\n",
       "      <th>SPY</th>\n",
       "      <th>TSLA</th>\n",
       "      <th>VIX</th>\n",
       "    </tr>\n",
       "  </thead>\n",
       "  <tbody>\n",
       "    <tr>\n",
       "      <th>2015-01-02</th>\n",
       "      <td>24.465118</td>\n",
       "      <td>15.388936</td>\n",
       "      <td>40.588919</td>\n",
       "      <td>174.649358</td>\n",
       "      <td>14.620667</td>\n",
       "      <td>17.790001</td>\n",
       "    </tr>\n",
       "    <tr>\n",
       "      <th>2015-01-05</th>\n",
       "      <td>23.775897</td>\n",
       "      <td>15.073197</td>\n",
       "      <td>40.211328</td>\n",
       "      <td>171.495253</td>\n",
       "      <td>14.006000</td>\n",
       "      <td>19.920000</td>\n",
       "    </tr>\n",
       "    <tr>\n",
       "      <th>2015-01-06</th>\n",
       "      <td>23.778135</td>\n",
       "      <td>14.729025</td>\n",
       "      <td>39.625410</td>\n",
       "      <td>169.879945</td>\n",
       "      <td>14.085333</td>\n",
       "      <td>21.120001</td>\n",
       "    </tr>\n",
       "    <tr>\n",
       "      <th>2015-01-07</th>\n",
       "      <td>24.111557</td>\n",
       "      <td>14.885149</td>\n",
       "      <td>40.128865</td>\n",
       "      <td>171.996848</td>\n",
       "      <td>14.063333</td>\n",
       "      <td>19.309999</td>\n",
       "    </tr>\n",
       "    <tr>\n",
       "      <th>2015-01-08</th>\n",
       "      <td>25.037978</td>\n",
       "      <td>14.986904</td>\n",
       "      <td>41.309381</td>\n",
       "      <td>175.048936</td>\n",
       "      <td>14.041000</td>\n",
       "      <td>17.010000</td>\n",
       "    </tr>\n",
       "  </tbody>\n",
       "</table>\n",
       "</div>"
      ],
      "text/plain": [
       "                 AAPL       AMZN       MSFT         SPY       TSLA        VIX\n",
       "2015-01-02  24.465118  15.388936  40.588919  174.649358  14.620667  17.790001\n",
       "2015-01-05  23.775897  15.073197  40.211328  171.495253  14.006000  19.920000\n",
       "2015-01-06  23.778135  14.729025  39.625410  169.879945  14.085333  21.120001\n",
       "2015-01-07  24.111557  14.885149  40.128865  171.996848  14.063333  19.309999\n",
       "2015-01-08  25.037978  14.986904  41.309381  175.048936  14.041000  17.010000"
      ]
     },
     "execution_count": 624,
     "metadata": {},
     "output_type": "execute_result"
    }
   ],
   "source": [
    "prices.head()"
   ]
  },
  {
   "cell_type": "code",
   "execution_count": 630,
   "metadata": {},
   "outputs": [
    {
     "data": {
      "text/html": [
       "<div>\n",
       "<style scoped>\n",
       "    .dataframe tbody tr th:only-of-type {\n",
       "        vertical-align: middle;\n",
       "    }\n",
       "\n",
       "    .dataframe tbody tr th {\n",
       "        vertical-align: top;\n",
       "    }\n",
       "\n",
       "    .dataframe thead th {\n",
       "        text-align: right;\n",
       "    }\n",
       "</style>\n",
       "<table border=\"1\" class=\"dataframe\">\n",
       "  <thead>\n",
       "    <tr style=\"text-align: right;\">\n",
       "      <th></th>\n",
       "      <th>AAPL</th>\n",
       "      <th>AMZN</th>\n",
       "      <th>MSFT</th>\n",
       "      <th>SPY</th>\n",
       "      <th>TSLA</th>\n",
       "      <th>MSFT_Vol</th>\n",
       "      <th>TSLA_Vol</th>\n",
       "      <th>AAPL_Vol</th>\n",
       "      <th>AMZN_Vol</th>\n",
       "      <th>SPY_Vol</th>\n",
       "      <th>VIX_Vol</th>\n",
       "      <th>ONE_M</th>\n",
       "    </tr>\n",
       "  </thead>\n",
       "  <tbody>\n",
       "    <tr>\n",
       "      <th>2015-01-05</th>\n",
       "      <td>-0.028172</td>\n",
       "      <td>-0.020517</td>\n",
       "      <td>-0.009303</td>\n",
       "      <td>-0.018060</td>\n",
       "      <td>-0.042041</td>\n",
       "      <td>0.245706</td>\n",
       "      <td>0.425611</td>\n",
       "      <td>0.370384</td>\n",
       "      <td>0.485808</td>\n",
       "      <td>0.164571</td>\n",
       "      <td>0.1992</td>\n",
       "      <td>0.0002</td>\n",
       "    </tr>\n",
       "    <tr>\n",
       "      <th>2015-01-06</th>\n",
       "      <td>0.000094</td>\n",
       "      <td>-0.022833</td>\n",
       "      <td>-0.014571</td>\n",
       "      <td>-0.009419</td>\n",
       "      <td>0.005664</td>\n",
       "      <td>0.256786</td>\n",
       "      <td>0.434215</td>\n",
       "      <td>0.376670</td>\n",
       "      <td>0.521827</td>\n",
       "      <td>0.174207</td>\n",
       "      <td>0.2112</td>\n",
       "      <td>0.0002</td>\n",
       "    </tr>\n",
       "    <tr>\n",
       "      <th>2015-01-07</th>\n",
       "      <td>0.014022</td>\n",
       "      <td>0.010600</td>\n",
       "      <td>0.012705</td>\n",
       "      <td>0.012461</td>\n",
       "      <td>-0.001562</td>\n",
       "      <td>0.249690</td>\n",
       "      <td>0.423627</td>\n",
       "      <td>0.364590</td>\n",
       "      <td>0.539860</td>\n",
       "      <td>0.180446</td>\n",
       "      <td>0.1931</td>\n",
       "      <td>0.0002</td>\n",
       "    </tr>\n",
       "    <tr>\n",
       "      <th>2015-01-08</th>\n",
       "      <td>0.038422</td>\n",
       "      <td>0.006836</td>\n",
       "      <td>0.029418</td>\n",
       "      <td>0.017745</td>\n",
       "      <td>-0.001588</td>\n",
       "      <td>0.238578</td>\n",
       "      <td>0.403070</td>\n",
       "      <td>0.348699</td>\n",
       "      <td>0.529240</td>\n",
       "      <td>0.165079</td>\n",
       "      <td>0.1701</td>\n",
       "      <td>0.0001</td>\n",
       "    </tr>\n",
       "    <tr>\n",
       "      <th>2015-01-09</th>\n",
       "      <td>0.001072</td>\n",
       "      <td>-0.011749</td>\n",
       "      <td>-0.008405</td>\n",
       "      <td>-0.008014</td>\n",
       "      <td>-0.018778</td>\n",
       "      <td>0.235324</td>\n",
       "      <td>0.400768</td>\n",
       "      <td>0.352652</td>\n",
       "      <td>0.530478</td>\n",
       "      <td>0.147442</td>\n",
       "      <td>0.1755</td>\n",
       "      <td>0.0002</td>\n",
       "    </tr>\n",
       "  </tbody>\n",
       "</table>\n",
       "</div>"
      ],
      "text/plain": [
       "                AAPL      AMZN      MSFT       SPY      TSLA  MSFT_Vol  \\\n",
       "2015-01-05 -0.028172 -0.020517 -0.009303 -0.018060 -0.042041  0.245706   \n",
       "2015-01-06  0.000094 -0.022833 -0.014571 -0.009419  0.005664  0.256786   \n",
       "2015-01-07  0.014022  0.010600  0.012705  0.012461 -0.001562  0.249690   \n",
       "2015-01-08  0.038422  0.006836  0.029418  0.017745 -0.001588  0.238578   \n",
       "2015-01-09  0.001072 -0.011749 -0.008405 -0.008014 -0.018778  0.235324   \n",
       "\n",
       "            TSLA_Vol  AAPL_Vol  AMZN_Vol   SPY_Vol  VIX_Vol   ONE_M  \n",
       "2015-01-05  0.425611  0.370384  0.485808  0.164571   0.1992  0.0002  \n",
       "2015-01-06  0.434215  0.376670  0.521827  0.174207   0.2112  0.0002  \n",
       "2015-01-07  0.423627  0.364590  0.539860  0.180446   0.1931  0.0002  \n",
       "2015-01-08  0.403070  0.348699  0.529240  0.165079   0.1701  0.0001  \n",
       "2015-01-09  0.400768  0.352652  0.530478  0.147442   0.1755  0.0002  "
      ]
     },
     "execution_count": 630,
     "metadata": {},
     "output_type": "execute_result"
    }
   ],
   "source": [
    "FULLDF.head()"
   ]
  },
  {
   "cell_type": "code",
   "execution_count": 679,
   "metadata": {},
   "outputs": [],
   "source": [
    "FINAL_P, MONTHLPF = simulation_(monthend=monthend,monthstart=monthstart,PRICES_DF=prices,VOLS_DF=FULLDF,stock_tickers=stocks)"
   ]
  },
  {
   "cell_type": "code",
   "execution_count": 693,
   "metadata": {},
   "outputs": [
    {
     "data": {
      "text/html": [
       "<div>\n",
       "<style scoped>\n",
       "    .dataframe tbody tr th:only-of-type {\n",
       "        vertical-align: middle;\n",
       "    }\n",
       "\n",
       "    .dataframe tbody tr th {\n",
       "        vertical-align: top;\n",
       "    }\n",
       "\n",
       "    .dataframe thead th {\n",
       "        text-align: right;\n",
       "    }\n",
       "</style>\n",
       "<table border=\"1\" class=\"dataframe\">\n",
       "  <thead>\n",
       "    <tr style=\"text-align: right;\">\n",
       "      <th></th>\n",
       "      <th>SPY</th>\n",
       "      <th>AMZN</th>\n",
       "      <th>AAPL</th>\n",
       "      <th>TSLA</th>\n",
       "      <th>MSFT</th>\n",
       "      <th>MV</th>\n",
       "      <th>PNL</th>\n",
       "      <th>RET</th>\n",
       "      <th>CUMULATIVE_PNL</th>\n",
       "    </tr>\n",
       "  </thead>\n",
       "  <tbody>\n",
       "    <tr>\n",
       "      <th>2015-04-01</th>\n",
       "      <td>19.855424</td>\n",
       "      <td>5.860679</td>\n",
       "      <td>8.099262</td>\n",
       "      <td>5.506957</td>\n",
       "      <td>7.917116</td>\n",
       "      <td>-100000.000000</td>\n",
       "      <td>0.000000</td>\n",
       "      <td>0.000000</td>\n",
       "      <td>0.000000</td>\n",
       "    </tr>\n",
       "    <tr>\n",
       "      <th>2015-04-02</th>\n",
       "      <td>15.920000</td>\n",
       "      <td>5.830000</td>\n",
       "      <td>8.310000</td>\n",
       "      <td>7.260000</td>\n",
       "      <td>4.740000</td>\n",
       "      <td>-94792.319241</td>\n",
       "      <td>5207.680759</td>\n",
       "      <td>5.207681</td>\n",
       "      <td>5207.680759</td>\n",
       "    </tr>\n",
       "    <tr>\n",
       "      <th>2015-04-06</th>\n",
       "      <td>17.530000</td>\n",
       "      <td>5.640000</td>\n",
       "      <td>8.250000</td>\n",
       "      <td>23.560000</td>\n",
       "      <td>7.510000</td>\n",
       "      <td>-161812.836394</td>\n",
       "      <td>-67020.517153</td>\n",
       "      <td>-70.702476</td>\n",
       "      <td>-61812.836394</td>\n",
       "    </tr>\n",
       "    <tr>\n",
       "      <th>2015-04-07</th>\n",
       "      <td>13.030000</td>\n",
       "      <td>4.120000</td>\n",
       "      <td>5.960000</td>\n",
       "      <td>22.120000</td>\n",
       "      <td>6.640000</td>\n",
       "      <td>-139010.603187</td>\n",
       "      <td>22802.233206</td>\n",
       "      <td>14.091733</td>\n",
       "      <td>-39010.603187</td>\n",
       "    </tr>\n",
       "    <tr>\n",
       "      <th>2015-04-08</th>\n",
       "      <td>12.390000</td>\n",
       "      <td>5.750000</td>\n",
       "      <td>5.380000</td>\n",
       "      <td>28.250000</td>\n",
       "      <td>6.040000</td>\n",
       "      <td>-163243.254849</td>\n",
       "      <td>-24232.651662</td>\n",
       "      <td>-17.432233</td>\n",
       "      <td>-63243.254849</td>\n",
       "    </tr>\n",
       "    <tr>\n",
       "      <th>2015-04-09</th>\n",
       "      <td>10.610000</td>\n",
       "      <td>6.050000</td>\n",
       "      <td>6.020000</td>\n",
       "      <td>31.750000</td>\n",
       "      <td>5.160000</td>\n",
       "      <td>-174542.619477</td>\n",
       "      <td>-11299.364628</td>\n",
       "      <td>-6.921796</td>\n",
       "      <td>-74542.619477</td>\n",
       "    </tr>\n",
       "    <tr>\n",
       "      <th>2015-04-10</th>\n",
       "      <td>11.190000</td>\n",
       "      <td>5.370000</td>\n",
       "      <td>5.730000</td>\n",
       "      <td>32.200000</td>\n",
       "      <td>5.720000</td>\n",
       "      <td>-175139.130705</td>\n",
       "      <td>-596.511228</td>\n",
       "      <td>-0.341757</td>\n",
       "      <td>-75139.130705</td>\n",
       "    </tr>\n",
       "    <tr>\n",
       "      <th>2015-04-13</th>\n",
       "      <td>9.230000</td>\n",
       "      <td>3.540000</td>\n",
       "      <td>3.850000</td>\n",
       "      <td>25.130000</td>\n",
       "      <td>3.340000</td>\n",
       "      <td>-130588.548147</td>\n",
       "      <td>44550.582559</td>\n",
       "      <td>25.437252</td>\n",
       "      <td>-30588.548147</td>\n",
       "    </tr>\n",
       "    <tr>\n",
       "      <th>2015-04-14</th>\n",
       "      <td>8.320000</td>\n",
       "      <td>3.120000</td>\n",
       "      <td>2.600000</td>\n",
       "      <td>19.170000</td>\n",
       "      <td>2.760000</td>\n",
       "      <td>-102041.412330</td>\n",
       "      <td>28547.135817</td>\n",
       "      <td>21.860367</td>\n",
       "      <td>-2041.412330</td>\n",
       "    </tr>\n",
       "    <tr>\n",
       "      <th>2015-04-15</th>\n",
       "      <td>7.480000</td>\n",
       "      <td>2.180000</td>\n",
       "      <td>2.130000</td>\n",
       "      <td>17.730000</td>\n",
       "      <td>3.970000</td>\n",
       "      <td>-94653.796931</td>\n",
       "      <td>7387.615398</td>\n",
       "      <td>7.239821</td>\n",
       "      <td>5346.203069</td>\n",
       "    </tr>\n",
       "    <tr>\n",
       "      <th>2015-04-16</th>\n",
       "      <td>5.620000</td>\n",
       "      <td>2.530000</td>\n",
       "      <td>1.270000</td>\n",
       "      <td>14.800000</td>\n",
       "      <td>2.680000</td>\n",
       "      <td>-77951.156452</td>\n",
       "      <td>16702.640480</td>\n",
       "      <td>17.646033</td>\n",
       "      <td>22048.843548</td>\n",
       "    </tr>\n",
       "    <tr>\n",
       "      <th>2015-04-17</th>\n",
       "      <td>2.190000</td>\n",
       "      <td>0.950000</td>\n",
       "      <td>0.930000</td>\n",
       "      <td>13.400000</td>\n",
       "      <td>1.310000</td>\n",
       "      <td>-59719.397805</td>\n",
       "      <td>18231.758647</td>\n",
       "      <td>23.388696</td>\n",
       "      <td>40280.602195</td>\n",
       "    </tr>\n",
       "    <tr>\n",
       "      <th>2015-04-20</th>\n",
       "      <td>1.300000</td>\n",
       "      <td>2.010000</td>\n",
       "      <td>0.490000</td>\n",
       "      <td>7.460000</td>\n",
       "      <td>4.540000</td>\n",
       "      <td>-47940.551336</td>\n",
       "      <td>11778.846469</td>\n",
       "      <td>19.723652</td>\n",
       "      <td>52059.448664</td>\n",
       "    </tr>\n",
       "    <tr>\n",
       "      <th>2015-04-21</th>\n",
       "      <td>0.780000</td>\n",
       "      <td>1.900000</td>\n",
       "      <td>0.240000</td>\n",
       "      <td>9.800000</td>\n",
       "      <td>2.710000</td>\n",
       "      <td>-50299.487562</td>\n",
       "      <td>-2358.936226</td>\n",
       "      <td>-4.920545</td>\n",
       "      <td>49700.512438</td>\n",
       "    </tr>\n",
       "    <tr>\n",
       "      <th>2015-04-22</th>\n",
       "      <td>0.690000</td>\n",
       "      <td>1.480000</td>\n",
       "      <td>0.300000</td>\n",
       "      <td>25.220000</td>\n",
       "      <td>3.030000</td>\n",
       "      <td>-105733.977883</td>\n",
       "      <td>-55434.490321</td>\n",
       "      <td>-110.208857</td>\n",
       "      <td>-5733.977883</td>\n",
       "    </tr>\n",
       "    <tr>\n",
       "      <th>2015-04-23</th>\n",
       "      <td>0.520000</td>\n",
       "      <td>0.850000</td>\n",
       "      <td>0.260000</td>\n",
       "      <td>19.510000</td>\n",
       "      <td>3.200000</td>\n",
       "      <td>-83006.087870</td>\n",
       "      <td>22727.890013</td>\n",
       "      <td>21.495351</td>\n",
       "      <td>16993.912130</td>\n",
       "    </tr>\n",
       "    <tr>\n",
       "      <th>2015-04-24</th>\n",
       "      <td>0.370000</td>\n",
       "      <td>40.150000</td>\n",
       "      <td>0.360000</td>\n",
       "      <td>16.520000</td>\n",
       "      <td>210.230000</td>\n",
       "      <td>-729350.560907</td>\n",
       "      <td>-646344.473037</td>\n",
       "      <td>-778.671167</td>\n",
       "      <td>-629350.560907</td>\n",
       "    </tr>\n",
       "    <tr>\n",
       "      <th>2015-04-27</th>\n",
       "      <td>0.000000</td>\n",
       "      <td>13.090000</td>\n",
       "      <td>0.110000</td>\n",
       "      <td>53.120000</td>\n",
       "      <td>223.800000</td>\n",
       "      <td>-803219.206553</td>\n",
       "      <td>-73868.645646</td>\n",
       "      <td>-10.128003</td>\n",
       "      <td>-703219.206553</td>\n",
       "    </tr>\n",
       "    <tr>\n",
       "      <th>2015-04-28</th>\n",
       "      <td>0.000000</td>\n",
       "      <td>0.930000</td>\n",
       "      <td>0.000000</td>\n",
       "      <td>43.910000</td>\n",
       "      <td>322.140000</td>\n",
       "      <td>-976425.866496</td>\n",
       "      <td>-173206.659943</td>\n",
       "      <td>-21.564059</td>\n",
       "      <td>-876425.866496</td>\n",
       "    </tr>\n",
       "    <tr>\n",
       "      <th>2015-04-29</th>\n",
       "      <td>0.000000</td>\n",
       "      <td>0.120000</td>\n",
       "      <td>0.000000</td>\n",
       "      <td>51.200000</td>\n",
       "      <td>313.830000</td>\n",
       "      <td>-979144.790960</td>\n",
       "      <td>-2718.924464</td>\n",
       "      <td>-0.278457</td>\n",
       "      <td>-879144.790960</td>\n",
       "    </tr>\n",
       "    <tr>\n",
       "      <th>2015-04-30</th>\n",
       "      <td>0.000000</td>\n",
       "      <td>0.000000</td>\n",
       "      <td>0.000000</td>\n",
       "      <td>7.000000</td>\n",
       "      <td>277.110000</td>\n",
       "      <td>-725450.009187</td>\n",
       "      <td>253694.781772</td>\n",
       "      <td>25.909833</td>\n",
       "      <td>-625450.009187</td>\n",
       "    </tr>\n",
       "  </tbody>\n",
       "</table>\n",
       "</div>"
      ],
      "text/plain": [
       "                  SPY       AMZN      AAPL       TSLA        MSFT  \\\n",
       "2015-04-01  19.855424   5.860679  8.099262   5.506957    7.917116   \n",
       "2015-04-02  15.920000   5.830000  8.310000   7.260000    4.740000   \n",
       "2015-04-06  17.530000   5.640000  8.250000  23.560000    7.510000   \n",
       "2015-04-07  13.030000   4.120000  5.960000  22.120000    6.640000   \n",
       "2015-04-08  12.390000   5.750000  5.380000  28.250000    6.040000   \n",
       "2015-04-09  10.610000   6.050000  6.020000  31.750000    5.160000   \n",
       "2015-04-10  11.190000   5.370000  5.730000  32.200000    5.720000   \n",
       "2015-04-13   9.230000   3.540000  3.850000  25.130000    3.340000   \n",
       "2015-04-14   8.320000   3.120000  2.600000  19.170000    2.760000   \n",
       "2015-04-15   7.480000   2.180000  2.130000  17.730000    3.970000   \n",
       "2015-04-16   5.620000   2.530000  1.270000  14.800000    2.680000   \n",
       "2015-04-17   2.190000   0.950000  0.930000  13.400000    1.310000   \n",
       "2015-04-20   1.300000   2.010000  0.490000   7.460000    4.540000   \n",
       "2015-04-21   0.780000   1.900000  0.240000   9.800000    2.710000   \n",
       "2015-04-22   0.690000   1.480000  0.300000  25.220000    3.030000   \n",
       "2015-04-23   0.520000   0.850000  0.260000  19.510000    3.200000   \n",
       "2015-04-24   0.370000  40.150000  0.360000  16.520000  210.230000   \n",
       "2015-04-27   0.000000  13.090000  0.110000  53.120000  223.800000   \n",
       "2015-04-28   0.000000   0.930000  0.000000  43.910000  322.140000   \n",
       "2015-04-29   0.000000   0.120000  0.000000  51.200000  313.830000   \n",
       "2015-04-30   0.000000   0.000000  0.000000   7.000000  277.110000   \n",
       "\n",
       "                       MV            PNL         RET  CUMULATIVE_PNL  \n",
       "2015-04-01 -100000.000000       0.000000    0.000000        0.000000  \n",
       "2015-04-02  -94792.319241    5207.680759    5.207681     5207.680759  \n",
       "2015-04-06 -161812.836394  -67020.517153  -70.702476   -61812.836394  \n",
       "2015-04-07 -139010.603187   22802.233206   14.091733   -39010.603187  \n",
       "2015-04-08 -163243.254849  -24232.651662  -17.432233   -63243.254849  \n",
       "2015-04-09 -174542.619477  -11299.364628   -6.921796   -74542.619477  \n",
       "2015-04-10 -175139.130705    -596.511228   -0.341757   -75139.130705  \n",
       "2015-04-13 -130588.548147   44550.582559   25.437252   -30588.548147  \n",
       "2015-04-14 -102041.412330   28547.135817   21.860367    -2041.412330  \n",
       "2015-04-15  -94653.796931    7387.615398    7.239821     5346.203069  \n",
       "2015-04-16  -77951.156452   16702.640480   17.646033    22048.843548  \n",
       "2015-04-17  -59719.397805   18231.758647   23.388696    40280.602195  \n",
       "2015-04-20  -47940.551336   11778.846469   19.723652    52059.448664  \n",
       "2015-04-21  -50299.487562   -2358.936226   -4.920545    49700.512438  \n",
       "2015-04-22 -105733.977883  -55434.490321 -110.208857    -5733.977883  \n",
       "2015-04-23  -83006.087870   22727.890013   21.495351    16993.912130  \n",
       "2015-04-24 -729350.560907 -646344.473037 -778.671167  -629350.560907  \n",
       "2015-04-27 -803219.206553  -73868.645646  -10.128003  -703219.206553  \n",
       "2015-04-28 -976425.866496 -173206.659943  -21.564059  -876425.866496  \n",
       "2015-04-29 -979144.790960   -2718.924464   -0.278457  -879144.790960  \n",
       "2015-04-30 -725450.009187  253694.781772   25.909833  -625450.009187  "
      ]
     },
     "execution_count": 693,
     "metadata": {},
     "output_type": "execute_result"
    }
   ],
   "source": [
    "MONTHLPF['Apr-15']"
   ]
  },
  {
   "cell_type": "code",
   "execution_count": 680,
   "metadata": {},
   "outputs": [
    {
     "data": {
      "application/vnd.plotly.v1+json": {
       "config": {
        "plotlyServerURL": "https://plot.ly"
       },
       "data": [
        {
         "hovertemplate": "variable=cumulative_profit<br>index=%{x}<br>value=%{y}<extra></extra>",
         "legendgroup": "cumulative_profit",
         "line": {
          "color": "#636efa",
          "dash": "solid"
         },
         "marker": {
          "symbol": "circle"
         },
         "mode": "lines",
         "name": "cumulative_profit",
         "orientation": "v",
         "showlegend": true,
         "type": "scatter",
         "x": [
          "Feb-15",
          "Mar-15",
          "Apr-15",
          "May-15",
          "Jun-15",
          "Jul-15",
          "Aug-15",
          "Sep-15",
          "Oct-15",
          "Nov-15",
          "Dec-15",
          "Jan-16",
          "Feb-16",
          "Mar-16",
          "Apr-16",
          "May-16",
          "Jun-16",
          "Jul-16",
          "Aug-16",
          "Sep-16",
          "Oct-16",
          "Nov-16",
          "Dec-16",
          "Jan-17",
          "Feb-17",
          "Mar-17",
          "Apr-17",
          "May-17",
          "Jun-17",
          "Jul-17",
          "Aug-17",
          "Sep-17",
          "Oct-17",
          "Nov-17",
          "Dec-17",
          "Jan-18",
          "Feb-18",
          "Mar-18",
          "Apr-18",
          "May-18",
          "Jun-18",
          "Jul-18",
          "Aug-18",
          "Sep-18",
          "Oct-18",
          "Nov-18",
          "Dec-18",
          "Jan-19",
          "Feb-19",
          "Mar-19",
          "Apr-19",
          "May-19",
          "Jun-19",
          "Jul-19",
          "Aug-19",
          "Sep-19",
          "Oct-19",
          "Nov-19",
          "Dec-19",
          "Jan-20",
          "Feb-20",
          "Mar-20",
          "Apr-20",
          "May-20",
          "Jun-20",
          "Jul-20",
          "Aug-20",
          "Sep-20",
          "Oct-20",
          "Nov-20",
          "Dec-20",
          "Jan-21",
          "Feb-21",
          "Mar-21",
          "Apr-21",
          "May-21",
          "Jun-21",
          "Jul-21",
          "Aug-21",
          "Sep-21",
          "Oct-21",
          "Nov-21",
          "Dec-21",
          "Jan-22",
          "Feb-22",
          "Mar-22",
          "Apr-22",
          "May-22",
          "Jun-22",
          "Jul-22",
          "Aug-22",
          "Sep-22",
          "Oct-22",
          "Nov-22",
          "Dec-22",
          "Jan-23",
          "Feb-23",
          "Mar-23",
          "Apr-23",
          "May-23",
          "Jun-23",
          "Jul-23",
          "Aug-23",
          "Sep-23",
          "Oct-23",
          "Nov-23"
         ],
         "xaxis": "x",
         "y": [
          100000,
          200000,
          -425450.00918738334,
          -325450.00918738334,
          -225450.00918738334,
          -310822.48030262196,
          -210822.48030262196,
          -110822.48030262197,
          -326748.85096405447,
          -226748.85096405447,
          -126748.85096405448,
          -26748.850964054494,
          73251.1490359455,
          173251.1490359455,
          273251.1490359455,
          373251.1490359455,
          473251.1490359455,
          573251.1490359455,
          673251.1490359455,
          678195.1900772031,
          778195.1900772031,
          878195.1900772031,
          978195.1900772031,
          1078195.190077203,
          1178195.190077203,
          1278195.190077203,
          1378195.190077203,
          1478195.190077203,
          1578195.190077203,
          1678195.190077203,
          1778195.190077203,
          1878195.190077203,
          1534839.896646159,
          1634839.896646159,
          1734839.896646159,
          603084.9042410152,
          703084.9042410152,
          803084.9042410152,
          903084.9042410152,
          1003084.9042410152,
          1103084.9042410152,
          1203084.9042410152,
          721045.4922873043,
          821045.4922873043,
          921045.4922873043,
          1021045.4922873043,
          1121045.4922873043,
          1221045.4922873043,
          1321045.4922873043,
          1413657.5550819598,
          1513657.5550819598,
          1613657.5550819598,
          1713657.5550819598,
          1813657.5550819598,
          1913657.5550819598,
          2013657.5550819598,
          2017484.8797682326,
          2117484.8797682323,
          1617688.1894031605,
          765236.1030066526,
          865236.1030066526,
          965236.1030066526,
          614954.3540005566,
          714954.3540005566,
          749430.1663260291,
          812191.9247877874,
          -85337.20545540145,
          14662.794544598553,
          114662.79454459855,
          -75405.89367038582,
          24594.10632961421,
          124594.10632961422,
          224594.1063296142,
          324594.10632961424,
          424594.10632961424,
          524594.1063296142,
          570089.6986836076,
          670089.6986836076,
          770089.6986836076,
          870089.6986836076,
          -67146.88594490034,
          -178101.35866921005,
          -78101.35866921005,
          21898.64133078995,
          121898.64133078995,
          221898.64133078995,
          321898.64133078995,
          421898.64133078995,
          521898.64133078995,
          621898.6413307899,
          721898.6413307899,
          821898.6413307899,
          921898.6413307899,
          1021898.6413307899,
          1121898.6413307898,
          862341.4042376932,
          962341.4042376932,
          799167.479766947,
          899167.479766947,
          621734.2457626667,
          654808.8814521102,
          754808.8814521102,
          854808.8814521102,
          954808.8814521102,
          1054808.8814521101,
          1025343.410975927
         ],
         "yaxis": "y"
        }
       ],
       "layout": {
        "legend": {
         "title": {
          "text": "variable"
         },
         "tracegroupgap": 0
        },
        "margin": {
         "t": 60
        },
        "template": {
         "data": {
          "bar": [
           {
            "error_x": {
             "color": "#2a3f5f"
            },
            "error_y": {
             "color": "#2a3f5f"
            },
            "marker": {
             "line": {
              "color": "#E5ECF6",
              "width": 0.5
             },
             "pattern": {
              "fillmode": "overlay",
              "size": 10,
              "solidity": 0.2
             }
            },
            "type": "bar"
           }
          ],
          "barpolar": [
           {
            "marker": {
             "line": {
              "color": "#E5ECF6",
              "width": 0.5
             },
             "pattern": {
              "fillmode": "overlay",
              "size": 10,
              "solidity": 0.2
             }
            },
            "type": "barpolar"
           }
          ],
          "carpet": [
           {
            "aaxis": {
             "endlinecolor": "#2a3f5f",
             "gridcolor": "white",
             "linecolor": "white",
             "minorgridcolor": "white",
             "startlinecolor": "#2a3f5f"
            },
            "baxis": {
             "endlinecolor": "#2a3f5f",
             "gridcolor": "white",
             "linecolor": "white",
             "minorgridcolor": "white",
             "startlinecolor": "#2a3f5f"
            },
            "type": "carpet"
           }
          ],
          "choropleth": [
           {
            "colorbar": {
             "outlinewidth": 0,
             "ticks": ""
            },
            "type": "choropleth"
           }
          ],
          "contour": [
           {
            "colorbar": {
             "outlinewidth": 0,
             "ticks": ""
            },
            "colorscale": [
             [
              0,
              "#0d0887"
             ],
             [
              0.1111111111111111,
              "#46039f"
             ],
             [
              0.2222222222222222,
              "#7201a8"
             ],
             [
              0.3333333333333333,
              "#9c179e"
             ],
             [
              0.4444444444444444,
              "#bd3786"
             ],
             [
              0.5555555555555556,
              "#d8576b"
             ],
             [
              0.6666666666666666,
              "#ed7953"
             ],
             [
              0.7777777777777778,
              "#fb9f3a"
             ],
             [
              0.8888888888888888,
              "#fdca26"
             ],
             [
              1,
              "#f0f921"
             ]
            ],
            "type": "contour"
           }
          ],
          "contourcarpet": [
           {
            "colorbar": {
             "outlinewidth": 0,
             "ticks": ""
            },
            "type": "contourcarpet"
           }
          ],
          "heatmap": [
           {
            "colorbar": {
             "outlinewidth": 0,
             "ticks": ""
            },
            "colorscale": [
             [
              0,
              "#0d0887"
             ],
             [
              0.1111111111111111,
              "#46039f"
             ],
             [
              0.2222222222222222,
              "#7201a8"
             ],
             [
              0.3333333333333333,
              "#9c179e"
             ],
             [
              0.4444444444444444,
              "#bd3786"
             ],
             [
              0.5555555555555556,
              "#d8576b"
             ],
             [
              0.6666666666666666,
              "#ed7953"
             ],
             [
              0.7777777777777778,
              "#fb9f3a"
             ],
             [
              0.8888888888888888,
              "#fdca26"
             ],
             [
              1,
              "#f0f921"
             ]
            ],
            "type": "heatmap"
           }
          ],
          "heatmapgl": [
           {
            "colorbar": {
             "outlinewidth": 0,
             "ticks": ""
            },
            "colorscale": [
             [
              0,
              "#0d0887"
             ],
             [
              0.1111111111111111,
              "#46039f"
             ],
             [
              0.2222222222222222,
              "#7201a8"
             ],
             [
              0.3333333333333333,
              "#9c179e"
             ],
             [
              0.4444444444444444,
              "#bd3786"
             ],
             [
              0.5555555555555556,
              "#d8576b"
             ],
             [
              0.6666666666666666,
              "#ed7953"
             ],
             [
              0.7777777777777778,
              "#fb9f3a"
             ],
             [
              0.8888888888888888,
              "#fdca26"
             ],
             [
              1,
              "#f0f921"
             ]
            ],
            "type": "heatmapgl"
           }
          ],
          "histogram": [
           {
            "marker": {
             "pattern": {
              "fillmode": "overlay",
              "size": 10,
              "solidity": 0.2
             }
            },
            "type": "histogram"
           }
          ],
          "histogram2d": [
           {
            "colorbar": {
             "outlinewidth": 0,
             "ticks": ""
            },
            "colorscale": [
             [
              0,
              "#0d0887"
             ],
             [
              0.1111111111111111,
              "#46039f"
             ],
             [
              0.2222222222222222,
              "#7201a8"
             ],
             [
              0.3333333333333333,
              "#9c179e"
             ],
             [
              0.4444444444444444,
              "#bd3786"
             ],
             [
              0.5555555555555556,
              "#d8576b"
             ],
             [
              0.6666666666666666,
              "#ed7953"
             ],
             [
              0.7777777777777778,
              "#fb9f3a"
             ],
             [
              0.8888888888888888,
              "#fdca26"
             ],
             [
              1,
              "#f0f921"
             ]
            ],
            "type": "histogram2d"
           }
          ],
          "histogram2dcontour": [
           {
            "colorbar": {
             "outlinewidth": 0,
             "ticks": ""
            },
            "colorscale": [
             [
              0,
              "#0d0887"
             ],
             [
              0.1111111111111111,
              "#46039f"
             ],
             [
              0.2222222222222222,
              "#7201a8"
             ],
             [
              0.3333333333333333,
              "#9c179e"
             ],
             [
              0.4444444444444444,
              "#bd3786"
             ],
             [
              0.5555555555555556,
              "#d8576b"
             ],
             [
              0.6666666666666666,
              "#ed7953"
             ],
             [
              0.7777777777777778,
              "#fb9f3a"
             ],
             [
              0.8888888888888888,
              "#fdca26"
             ],
             [
              1,
              "#f0f921"
             ]
            ],
            "type": "histogram2dcontour"
           }
          ],
          "mesh3d": [
           {
            "colorbar": {
             "outlinewidth": 0,
             "ticks": ""
            },
            "type": "mesh3d"
           }
          ],
          "parcoords": [
           {
            "line": {
             "colorbar": {
              "outlinewidth": 0,
              "ticks": ""
             }
            },
            "type": "parcoords"
           }
          ],
          "pie": [
           {
            "automargin": true,
            "type": "pie"
           }
          ],
          "scatter": [
           {
            "fillpattern": {
             "fillmode": "overlay",
             "size": 10,
             "solidity": 0.2
            },
            "type": "scatter"
           }
          ],
          "scatter3d": [
           {
            "line": {
             "colorbar": {
              "outlinewidth": 0,
              "ticks": ""
             }
            },
            "marker": {
             "colorbar": {
              "outlinewidth": 0,
              "ticks": ""
             }
            },
            "type": "scatter3d"
           }
          ],
          "scattercarpet": [
           {
            "marker": {
             "colorbar": {
              "outlinewidth": 0,
              "ticks": ""
             }
            },
            "type": "scattercarpet"
           }
          ],
          "scattergeo": [
           {
            "marker": {
             "colorbar": {
              "outlinewidth": 0,
              "ticks": ""
             }
            },
            "type": "scattergeo"
           }
          ],
          "scattergl": [
           {
            "marker": {
             "colorbar": {
              "outlinewidth": 0,
              "ticks": ""
             }
            },
            "type": "scattergl"
           }
          ],
          "scattermapbox": [
           {
            "marker": {
             "colorbar": {
              "outlinewidth": 0,
              "ticks": ""
             }
            },
            "type": "scattermapbox"
           }
          ],
          "scatterpolar": [
           {
            "marker": {
             "colorbar": {
              "outlinewidth": 0,
              "ticks": ""
             }
            },
            "type": "scatterpolar"
           }
          ],
          "scatterpolargl": [
           {
            "marker": {
             "colorbar": {
              "outlinewidth": 0,
              "ticks": ""
             }
            },
            "type": "scatterpolargl"
           }
          ],
          "scatterternary": [
           {
            "marker": {
             "colorbar": {
              "outlinewidth": 0,
              "ticks": ""
             }
            },
            "type": "scatterternary"
           }
          ],
          "surface": [
           {
            "colorbar": {
             "outlinewidth": 0,
             "ticks": ""
            },
            "colorscale": [
             [
              0,
              "#0d0887"
             ],
             [
              0.1111111111111111,
              "#46039f"
             ],
             [
              0.2222222222222222,
              "#7201a8"
             ],
             [
              0.3333333333333333,
              "#9c179e"
             ],
             [
              0.4444444444444444,
              "#bd3786"
             ],
             [
              0.5555555555555556,
              "#d8576b"
             ],
             [
              0.6666666666666666,
              "#ed7953"
             ],
             [
              0.7777777777777778,
              "#fb9f3a"
             ],
             [
              0.8888888888888888,
              "#fdca26"
             ],
             [
              1,
              "#f0f921"
             ]
            ],
            "type": "surface"
           }
          ],
          "table": [
           {
            "cells": {
             "fill": {
              "color": "#EBF0F8"
             },
             "line": {
              "color": "white"
             }
            },
            "header": {
             "fill": {
              "color": "#C8D4E3"
             },
             "line": {
              "color": "white"
             }
            },
            "type": "table"
           }
          ]
         },
         "layout": {
          "annotationdefaults": {
           "arrowcolor": "#2a3f5f",
           "arrowhead": 0,
           "arrowwidth": 1
          },
          "autotypenumbers": "strict",
          "coloraxis": {
           "colorbar": {
            "outlinewidth": 0,
            "ticks": ""
           }
          },
          "colorscale": {
           "diverging": [
            [
             0,
             "#8e0152"
            ],
            [
             0.1,
             "#c51b7d"
            ],
            [
             0.2,
             "#de77ae"
            ],
            [
             0.3,
             "#f1b6da"
            ],
            [
             0.4,
             "#fde0ef"
            ],
            [
             0.5,
             "#f7f7f7"
            ],
            [
             0.6,
             "#e6f5d0"
            ],
            [
             0.7,
             "#b8e186"
            ],
            [
             0.8,
             "#7fbc41"
            ],
            [
             0.9,
             "#4d9221"
            ],
            [
             1,
             "#276419"
            ]
           ],
           "sequential": [
            [
             0,
             "#0d0887"
            ],
            [
             0.1111111111111111,
             "#46039f"
            ],
            [
             0.2222222222222222,
             "#7201a8"
            ],
            [
             0.3333333333333333,
             "#9c179e"
            ],
            [
             0.4444444444444444,
             "#bd3786"
            ],
            [
             0.5555555555555556,
             "#d8576b"
            ],
            [
             0.6666666666666666,
             "#ed7953"
            ],
            [
             0.7777777777777778,
             "#fb9f3a"
            ],
            [
             0.8888888888888888,
             "#fdca26"
            ],
            [
             1,
             "#f0f921"
            ]
           ],
           "sequentialminus": [
            [
             0,
             "#0d0887"
            ],
            [
             0.1111111111111111,
             "#46039f"
            ],
            [
             0.2222222222222222,
             "#7201a8"
            ],
            [
             0.3333333333333333,
             "#9c179e"
            ],
            [
             0.4444444444444444,
             "#bd3786"
            ],
            [
             0.5555555555555556,
             "#d8576b"
            ],
            [
             0.6666666666666666,
             "#ed7953"
            ],
            [
             0.7777777777777778,
             "#fb9f3a"
            ],
            [
             0.8888888888888888,
             "#fdca26"
            ],
            [
             1,
             "#f0f921"
            ]
           ]
          },
          "colorway": [
           "#636efa",
           "#EF553B",
           "#00cc96",
           "#ab63fa",
           "#FFA15A",
           "#19d3f3",
           "#FF6692",
           "#B6E880",
           "#FF97FF",
           "#FECB52"
          ],
          "font": {
           "color": "#2a3f5f"
          },
          "geo": {
           "bgcolor": "white",
           "lakecolor": "white",
           "landcolor": "#E5ECF6",
           "showlakes": true,
           "showland": true,
           "subunitcolor": "white"
          },
          "hoverlabel": {
           "align": "left"
          },
          "hovermode": "closest",
          "mapbox": {
           "style": "light"
          },
          "paper_bgcolor": "white",
          "plot_bgcolor": "#E5ECF6",
          "polar": {
           "angularaxis": {
            "gridcolor": "white",
            "linecolor": "white",
            "ticks": ""
           },
           "bgcolor": "#E5ECF6",
           "radialaxis": {
            "gridcolor": "white",
            "linecolor": "white",
            "ticks": ""
           }
          },
          "scene": {
           "xaxis": {
            "backgroundcolor": "#E5ECF6",
            "gridcolor": "white",
            "gridwidth": 2,
            "linecolor": "white",
            "showbackground": true,
            "ticks": "",
            "zerolinecolor": "white"
           },
           "yaxis": {
            "backgroundcolor": "#E5ECF6",
            "gridcolor": "white",
            "gridwidth": 2,
            "linecolor": "white",
            "showbackground": true,
            "ticks": "",
            "zerolinecolor": "white"
           },
           "zaxis": {
            "backgroundcolor": "#E5ECF6",
            "gridcolor": "white",
            "gridwidth": 2,
            "linecolor": "white",
            "showbackground": true,
            "ticks": "",
            "zerolinecolor": "white"
           }
          },
          "shapedefaults": {
           "line": {
            "color": "#2a3f5f"
           }
          },
          "ternary": {
           "aaxis": {
            "gridcolor": "white",
            "linecolor": "white",
            "ticks": ""
           },
           "baxis": {
            "gridcolor": "white",
            "linecolor": "white",
            "ticks": ""
           },
           "bgcolor": "#E5ECF6",
           "caxis": {
            "gridcolor": "white",
            "linecolor": "white",
            "ticks": ""
           }
          },
          "title": {
           "x": 0.05
          },
          "xaxis": {
           "automargin": true,
           "gridcolor": "white",
           "linecolor": "white",
           "ticks": "",
           "title": {
            "standoff": 15
           },
           "zerolinecolor": "white",
           "zerolinewidth": 2
          },
          "yaxis": {
           "automargin": true,
           "gridcolor": "white",
           "linecolor": "white",
           "ticks": "",
           "title": {
            "standoff": 15
           },
           "zerolinecolor": "white",
           "zerolinewidth": 2
          }
         }
        },
        "xaxis": {
         "anchor": "y",
         "domain": [
          0,
          1
         ],
         "title": {
          "text": "index"
         }
        },
        "yaxis": {
         "anchor": "x",
         "domain": [
          0,
          1
         ],
         "title": {
          "text": "value"
         }
        }
       }
      }
     },
     "metadata": {},
     "output_type": "display_data"
    }
   ],
   "source": [
    "px.line(data_frame=FINAL_P,y =['cumulative_profit'])"
   ]
  },
  {
   "cell_type": "code",
   "execution_count": null,
   "metadata": {},
   "outputs": [],
   "source": []
  },
  {
   "cell_type": "code",
   "execution_count": 691,
   "metadata": {},
   "outputs": [
    {
     "data": {
      "text/html": [
       "<div>\n",
       "<style scoped>\n",
       "    .dataframe tbody tr th:only-of-type {\n",
       "        vertical-align: middle;\n",
       "    }\n",
       "\n",
       "    .dataframe tbody tr th {\n",
       "        vertical-align: top;\n",
       "    }\n",
       "\n",
       "    .dataframe thead th {\n",
       "        text-align: right;\n",
       "    }\n",
       "</style>\n",
       "<table border=\"1\" class=\"dataframe\">\n",
       "  <thead>\n",
       "    <tr style=\"text-align: right;\">\n",
       "      <th></th>\n",
       "      <th>Mean</th>\n",
       "      <th>Vol</th>\n",
       "      <th>Sharpe</th>\n",
       "      <th>Min</th>\n",
       "      <th>Max</th>\n",
       "    </tr>\n",
       "  </thead>\n",
       "  <tbody>\n",
       "    <tr>\n",
       "      <th>ROC</th>\n",
       "      <td>1.160766</td>\n",
       "      <td>8.216098</td>\n",
       "      <td>0.141279</td>\n",
       "      <td>-11.31755</td>\n",
       "      <td>1.0</td>\n",
       "    </tr>\n",
       "  </tbody>\n",
       "</table>\n",
       "</div>"
      ],
      "text/plain": [
       "         Mean       Vol    Sharpe       Min  Max\n",
       "ROC  1.160766  8.216098  0.141279 -11.31755  1.0"
      ]
     },
     "execution_count": 691,
     "metadata": {},
     "output_type": "execute_result"
    }
   ],
   "source": [
    "strat_rets = FINAL_P[['ROC']]\n",
    "strat_rets.index = monthstart\n",
    "\n",
    "portfolio_cmds.performanceMetrics(strat_rets,annualization=12)"
   ]
  },
  {
   "cell_type": "code",
   "execution_count": 688,
   "metadata": {},
   "outputs": [
    {
     "data": {
      "text/plain": [
       "106"
      ]
     },
     "execution_count": 688,
     "metadata": {},
     "output_type": "execute_result"
    }
   ],
   "source": [
    "len(strat_rets)"
   ]
  },
  {
   "cell_type": "code",
   "execution_count": 685,
   "metadata": {},
   "outputs": [],
   "source": [
    "def tailMET(strat_rets):\n",
    "    pass"
   ]
  },
  {
   "cell_type": "code",
   "execution_count": 692,
   "metadata": {},
   "outputs": [
    {
     "data": {
      "text/html": [
       "<div>\n",
       "<style scoped>\n",
       "    .dataframe tbody tr th:only-of-type {\n",
       "        vertical-align: middle;\n",
       "    }\n",
       "\n",
       "    .dataframe tbody tr th {\n",
       "        vertical-align: top;\n",
       "    }\n",
       "\n",
       "    .dataframe thead th {\n",
       "        text-align: right;\n",
       "    }\n",
       "</style>\n",
       "<table border=\"1\" class=\"dataframe\">\n",
       "  <thead>\n",
       "    <tr style=\"text-align: right;\">\n",
       "      <th></th>\n",
       "      <th>Skewness</th>\n",
       "      <th>Kurtosis</th>\n",
       "      <th>VaR (0.05)</th>\n",
       "      <th>CVaR (0.05)</th>\n",
       "      <th>Max Drawdown</th>\n",
       "      <th>Peak</th>\n",
       "      <th>Bottom</th>\n",
       "      <th>Recover</th>\n",
       "      <th>Duration (to Recover)</th>\n",
       "    </tr>\n",
       "  </thead>\n",
       "  <tbody>\n",
       "    <tr>\n",
       "      <th>ROC</th>\n",
       "      <td>-3.150825</td>\n",
       "      <td>9.89777</td>\n",
       "      <td>-4.953574</td>\n",
       "      <td>-8.240366</td>\n",
       "      <td>-62589.31471</td>\n",
       "      <td>2018-07-01</td>\n",
       "      <td>2019-11-01</td>\n",
       "      <td>2019-12-01</td>\n",
       "      <td>518 days</td>\n",
       "    </tr>\n",
       "  </tbody>\n",
       "</table>\n",
       "</div>"
      ],
      "text/plain": [
       "     Skewness  Kurtosis  VaR (0.05)  CVaR (0.05)  Max Drawdown       Peak  \\\n",
       "ROC -3.150825   9.89777   -4.953574    -8.240366  -62589.31471 2018-07-01   \n",
       "\n",
       "        Bottom    Recover Duration (to Recover)  \n",
       "ROC 2019-11-01 2019-12-01              518 days  "
      ]
     },
     "execution_count": 692,
     "metadata": {},
     "output_type": "execute_result"
    }
   ],
   "source": [
    "portfolio_cmds.tailMetrics(strat_rets)"
   ]
  },
  {
   "cell_type": "code",
   "execution_count": 683,
   "metadata": {},
   "outputs": [
    {
     "data": {
      "text/plain": [
       "<Axes: >"
      ]
     },
     "execution_count": 683,
     "metadata": {},
     "output_type": "execute_result"
    },
    {
     "data": {
      "image/png": "[encoded data removed]",
      "text/plain": [
       "<Figure size 640x480 with 1 Axes>"
      ]
     },
     "metadata": {},
     "output_type": "display_data"
    }
   ],
   "source": [
    "FINAL_P.Profit.plot()"
   ]
  },
  {
   "cell_type": "code",
   "execution_count": 392,
   "metadata": {},
   "outputs": [
    {
     "data": {
      "text/plain": [
       "1000.0"
      ]
     },
     "execution_count": 392,
     "metadata": {},
     "output_type": "execute_result"
    }
   ],
   "source": [
    "(N.T @ pces).values.flatten()[0]"
   ]
  },
  {
   "cell_type": "code",
   "execution_count": 604,
   "metadata": {},
   "outputs": [
    {
     "data": {
      "text/html": [
       "<div>\n",
       "<style scoped>\n",
       "    .dataframe tbody tr th:only-of-type {\n",
       "        vertical-align: middle;\n",
       "    }\n",
       "\n",
       "    .dataframe tbody tr th {\n",
       "        vertical-align: top;\n",
       "    }\n",
       "\n",
       "    .dataframe thead th {\n",
       "        text-align: right;\n",
       "    }\n",
       "</style>\n",
       "<table border=\"1\" class=\"dataframe\">\n",
       "  <thead>\n",
       "    <tr style=\"text-align: right;\">\n",
       "      <th></th>\n",
       "      <th>N</th>\n",
       "    </tr>\n",
       "  </thead>\n",
       "  <tbody>\n",
       "    <tr>\n",
       "      <th>SPY</th>\n",
       "      <td>280.415477</td>\n",
       "    </tr>\n",
       "    <tr>\n",
       "      <th>AMZN</th>\n",
       "      <td>1892.923452</td>\n",
       "    </tr>\n",
       "    <tr>\n",
       "      <th>AAPL</th>\n",
       "      <td>1301.459187</td>\n",
       "    </tr>\n",
       "    <tr>\n",
       "      <th>TSLA</th>\n",
       "      <td>1298.163058</td>\n",
       "    </tr>\n",
       "    <tr>\n",
       "      <th>MSFT</th>\n",
       "      <td>1208.374556</td>\n",
       "    </tr>\n",
       "  </tbody>\n",
       "</table>\n",
       "</div>"
      ],
      "text/plain": [
       "                N\n",
       "SPY    280.415477\n",
       "AMZN  1892.923452\n",
       "AAPL  1301.459187\n",
       "TSLA  1298.163058\n",
       "MSFT  1208.374556"
      ]
     },
     "execution_count": 604,
     "metadata": {},
     "output_type": "execute_result"
    }
   ],
   "source": [
    "N"
   ]
  },
  {
   "cell_type": "code",
   "execution_count": 359,
   "metadata": {},
   "outputs": [
    {
     "data": {
      "text/html": [
       "<div>\n",
       "<style scoped>\n",
       "    .dataframe tbody tr th:only-of-type {\n",
       "        vertical-align: middle;\n",
       "    }\n",
       "\n",
       "    .dataframe tbody tr th {\n",
       "        vertical-align: top;\n",
       "    }\n",
       "\n",
       "    .dataframe thead th {\n",
       "        text-align: right;\n",
       "    }\n",
       "</style>\n",
       "<table border=\"1\" class=\"dataframe\">\n",
       "  <thead>\n",
       "    <tr style=\"text-align: right;\">\n",
       "      <th></th>\n",
       "      <th>Price</th>\n",
       "    </tr>\n",
       "  </thead>\n",
       "  <tbody>\n",
       "    <tr>\n",
       "      <th>SPY</th>\n",
       "      <td>0.713227</td>\n",
       "    </tr>\n",
       "    <tr>\n",
       "      <th>AMZN</th>\n",
       "      <td>0.105657</td>\n",
       "    </tr>\n",
       "    <tr>\n",
       "      <th>AAPL</th>\n",
       "      <td>0.153674</td>\n",
       "    </tr>\n",
       "    <tr>\n",
       "      <th>TSLA</th>\n",
       "      <td>0.154064</td>\n",
       "    </tr>\n",
       "    <tr>\n",
       "      <th>MSFT</th>\n",
       "      <td>0.165512</td>\n",
       "    </tr>\n",
       "  </tbody>\n",
       "</table>\n",
       "</div>"
      ],
      "text/plain": [
       "         Price\n",
       "SPY   0.713227\n",
       "AMZN  0.105657\n",
       "AAPL  0.153674\n",
       "TSLA  0.154064\n",
       "MSFT  0.165512"
      ]
     },
     "execution_count": 359,
     "metadata": {},
     "output_type": "execute_result"
    }
   ],
   "source": [
    "pces"
   ]
  },
  {
   "cell_type": "code",
   "execution_count": 339,
   "metadata": {},
   "outputs": [
    {
     "data": {
      "text/html": [
       "<div>\n",
       "<style scoped>\n",
       "    .dataframe tbody tr th:only-of-type {\n",
       "        vertical-align: middle;\n",
       "    }\n",
       "\n",
       "    .dataframe tbody tr th {\n",
       "        vertical-align: top;\n",
       "    }\n",
       "\n",
       "    .dataframe thead th {\n",
       "        text-align: right;\n",
       "    }\n",
       "</style>\n",
       "<table border=\"1\" class=\"dataframe\">\n",
       "  <thead>\n",
       "    <tr style=\"text-align: right;\">\n",
       "      <th></th>\n",
       "      <th>N</th>\n",
       "    </tr>\n",
       "  </thead>\n",
       "  <tbody>\n",
       "    <tr>\n",
       "      <th>SPY</th>\n",
       "      <td>280.415477</td>\n",
       "    </tr>\n",
       "    <tr>\n",
       "      <th>AMZN</th>\n",
       "      <td>1892.923452</td>\n",
       "    </tr>\n",
       "    <tr>\n",
       "      <th>AAPL</th>\n",
       "      <td>1301.459187</td>\n",
       "    </tr>\n",
       "    <tr>\n",
       "      <th>TSLA</th>\n",
       "      <td>1298.163058</td>\n",
       "    </tr>\n",
       "    <tr>\n",
       "      <th>MSFT</th>\n",
       "      <td>1208.374556</td>\n",
       "    </tr>\n",
       "  </tbody>\n",
       "</table>\n",
       "</div>"
      ],
      "text/plain": [
       "                N\n",
       "SPY    280.415477\n",
       "AMZN  1892.923452\n",
       "AAPL  1301.459187\n",
       "TSLA  1298.163058\n",
       "MSFT  1208.374556"
      ]
     },
     "execution_count": 339,
     "metadata": {},
     "output_type": "execute_result"
    }
   ],
   "source": [
    "pd.DataFrame.from_dict(N,orient='Index',columns=['N'])"
   ]
  },
  {
   "cell_type": "code",
   "execution_count": 336,
   "metadata": {},
   "outputs": [
    {
     "data": {
      "text/plain": [
       "{'SPY': 280.41547660525515,\n",
       " 'AMZN': 1892.9234522132128,\n",
       " 'AAPL': 1301.4591874789019,\n",
       " 'TSLA': 1298.1630579021153,\n",
       " 'MSFT': 1208.3745562579275}"
      ]
     },
     "execution_count": 336,
     "metadata": {},
     "output_type": "execute_result"
    }
   ],
   "source": [
    "N"
   ]
  },
  {
   "cell_type": "code",
   "execution_count": 328,
   "metadata": {},
   "outputs": [
    {
     "data": {
      "text/plain": [
       "array([ 280.41547661, 1892.92345221, 1301.45918748, 1298.1630579 ,\n",
       "       1208.37455626])"
      ]
     },
     "execution_count": 328,
     "metadata": {},
     "output_type": "execute_result"
    }
   ],
   "source": [
    "200/pcar"
   ]
  },
  {
   "cell_type": "code",
   "execution_count": 291,
   "metadata": {},
   "outputs": [
    {
     "data": {
      "text/plain": [
       "Timestamp('2015-02-02 00:00:00')"
      ]
     },
     "execution_count": 291,
     "metadata": {},
     "output_type": "execute_result"
    }
   ],
   "source": [
    "prcsfeb.index[0]"
   ]
  },
  {
   "cell_type": "code",
   "execution_count": 265,
   "metadata": {},
   "outputs": [
    {
     "data": {
      "text/plain": [
       "0.22637048"
      ]
     },
     "execution_count": 265,
     "metadata": {},
     "output_type": "execute_result"
    }
   ],
   "source": [
    "firstfeb.iloc[0]['MSFT_Vol']"
   ]
  },
  {
   "cell_type": "code",
   "execution_count": 261,
   "metadata": {},
   "outputs": [
    {
     "data": {
      "text/plain": [
       "0.07397260273972603"
      ]
     },
     "execution_count": 261,
     "metadata": {},
     "output_type": "execute_result"
    }
   ],
   "source": [
    "(monthend[0]-monthstart[0]).days/365"
   ]
  },
  {
   "cell_type": "code",
   "execution_count": 182,
   "metadata": {},
   "outputs": [
    {
     "data": {
      "text/plain": [
       "DatetimeIndex(['2015-02-02', '2015-02-03', '2015-02-04', '2015-02-05',\n",
       "               '2015-02-06', '2015-02-09', '2015-02-10', '2015-02-11',\n",
       "               '2015-02-12', '2015-02-13', '2015-02-17', '2015-02-18',\n",
       "               '2015-02-19', '2015-02-20', '2015-02-23', '2015-02-24',\n",
       "               '2015-02-25', '2015-02-26', '2015-02-27'],\n",
       "              dtype='datetime64[ns]', freq=None)"
      ]
     },
     "execution_count": 182,
     "metadata": {},
     "output_type": "execute_result"
    }
   ],
   "source": [
    "FULLDF.loc[monthstart[0]:monthend[0]].index"
   ]
  },
  {
   "cell_type": "code",
   "execution_count": null,
   "metadata": {},
   "outputs": [],
   "source": [
    "pricesmonth = prices.resample(\"M\").last()\n",
    "retsm = pricesmonth.pct_change().dropna()"
   ]
  },
  {
   "cell_type": "code",
   "execution_count": null,
   "metadata": {},
   "outputs": [],
   "source": [
    "monthlyPF = portfolio_cmds.performanceMetrics(retsm,annualization=1)\n",
    "styled_df = monthlyPF.style.format({\n",
    "    'Mean': '{:,.2%}'.format,\n",
    "    'Vol': '{:,.2%}'.format,\n",
    "    'Sharpe': '{:,.3f}'.format,  # Use the appropriate format for Sharpe (e.g., six decimal places)\n",
    "    'Min': '{:,.3%}'.format,\n",
    "    'Max': '{:,.3%}'.format\n",
    "})\n"
   ]
  },
  {
   "cell_type": "markdown",
   "metadata": {},
   "source": [
    "# Monthly Returns Statistics \n",
    "\n",
    "- starting date: '2015-01-01'\n",
    "- end date: '2023-12-19'\n",
    "\n",
    "\n",
    "<style type=\"text/css\">\n",
    "</style>\n",
    "<table id=\"T_b9a33\">\n",
    "  <thead>\n",
    "    <tr>\n",
    "      <th class=\"blank level0\" >&nbsp;</th>\n",
    "      <th id=\"T_b9a33_level0_col0\" class=\"col_heading level0 col0\" >Mean</th>\n",
    "      <th id=\"T_b9a33_level0_col1\" class=\"col_heading level0 col1\" >Vol</th>\n",
    "      <th id=\"T_b9a33_level0_col2\" class=\"col_heading level0 col2\" >Sharpe</th>\n",
    "      <th id=\"T_b9a33_level0_col3\" class=\"col_heading level0 col3\" >Min</th>\n",
    "      <th id=\"T_b9a33_level0_col4\" class=\"col_heading level0 col4\" >Max</th>\n",
    "    </tr>\n",
    "  </thead>\n",
    "  <tbody>\n",
    "    <tr>\n",
    "      <th id=\"T_b9a33_level0_row0\" class=\"row_heading level0 row0\" >AAPL</th>\n",
    "      <td id=\"T_b9a33_row0_col0\" class=\"data row0 col0\" >2.23%</td>\n",
    "      <td id=\"T_b9a33_row0_col1\" class=\"data row0 col1\" >8.24%</td>\n",
    "      <td id=\"T_b9a33_row0_col2\" class=\"data row0 col2\" >0.271</td>\n",
    "      <td id=\"T_b9a33_row0_col3\" class=\"data row0 col3\" >-18.119%</td>\n",
    "      <td id=\"T_b9a33_row0_col4\" class=\"data row0 col4\" >21.662%</td>\n",
    "    </tr>\n",
    "    <tr>\n",
    "      <th id=\"T_b9a33_level0_row1\" class=\"row_heading level0 row1\" >AMZN</th>\n",
    "      <td id=\"T_b9a33_row1_col0\" class=\"data row1 col0\" >2.45%</td>\n",
    "      <td id=\"T_b9a33_row1_col1\" class=\"data row1 col1\" >9.14%</td>\n",
    "      <td id=\"T_b9a33_row1_col2\" class=\"data row1 col2\" >0.267</td>\n",
    "      <td id=\"T_b9a33_row1_col3\" class=\"data row1 col3\" >-23.753%</td>\n",
    "      <td id=\"T_b9a33_row1_col4\" class=\"data row1 col4\" >27.060%</td>\n",
    "    </tr>\n",
    "    <tr>\n",
    "      <th id=\"T_b9a33_level0_row2\" class=\"row_heading level0 row2\" >MSFT</th>\n",
    "      <td id=\"T_b9a33_row2_col0\" class=\"data row2 col0\" >2.43%</td>\n",
    "      <td id=\"T_b9a33_row2_col1\" class=\"data row2 col1\" >6.30%</td>\n",
    "      <td id=\"T_b9a33_row2_col2\" class=\"data row2 col2\" >0.385</td>\n",
    "      <td id=\"T_b9a33_row2_col3\" class=\"data row2 col3\" >-10.927%</td>\n",
    "      <td id=\"T_b9a33_row2_col4\" class=\"data row2 col4\" >19.641%</td>\n",
    "    </tr>\n",
    "    <tr>\n",
    "      <th id=\"T_b9a33_level0_row3\" class=\"row_heading level0 row3\" >SPY</th>\n",
    "      <td id=\"T_b9a33_row3_col0\" class=\"data row3 col0\" >1.07%</td>\n",
    "      <td id=\"T_b9a33_row3_col1\" class=\"data row3 col1\" >4.56%</td>\n",
    "      <td id=\"T_b9a33_row3_col2\" class=\"data row3 col2\" >0.235</td>\n",
    "      <td id=\"T_b9a33_row3_col3\" class=\"data row3 col3\" >-12.464%</td>\n",
    "      <td id=\"T_b9a33_row3_col4\" class=\"data row3 col4\" >12.698%</td>\n",
    "    </tr>\n",
    "    <tr>\n",
    "      <th id=\"T_b9a33_level0_row4\" class=\"row_heading level0 row4\" >TSLA</th>\n",
    "      <td id=\"T_b9a33_row4_col0\" class=\"data row4 col0\" >4.26%</td>\n",
    "      <td id=\"T_b9a33_row4_col1\" class=\"data row4 col1\" >18.20%</td>\n",
    "      <td id=\"T_b9a33_row4_col2\" class=\"data row4 col2\" >0.234</td>\n",
    "      <td id=\"T_b9a33_row4_col3\" class=\"data row4 col3\" >-36.733%</td>\n",
    "      <td id=\"T_b9a33_row4_col4\" class=\"data row4 col4\" >74.145%</td>\n",
    "    </tr>\n",
    "    <tr>\n",
    "      <th id=\"T_b9a33_level0_row5\" class=\"row_heading level0 row5\" >VIX</th>\n",
    "      <td id=\"T_b9a33_row5_col0\" class=\"data row5 col0\" >3.02%</td>\n",
    "      <td id=\"T_b9a33_row5_col1\" class=\"data row5 col1\" >29.11%</td>\n",
    "      <td id=\"T_b9a33_row5_col2\" class=\"data row5 col2\" >0.104</td>\n",
    "      <td id=\"T_b9a33_row5_col3\" class=\"data row5 col3\" >-45.897%</td>\n",
    "      <td id=\"T_b9a33_row5_col4\" class=\"data row5 col4\" >134.571%</td>\n",
    "    </tr>\n",
    "  </tbody>\n",
    "</table>\n",
    "\n",
    "- Ignore the VIX return since its price level already represents the implied volatility of spy options expiring in thirty days. \n",
    "\n",
    "## Tail Metrics\n",
    "\n",
    "\n",
    "<style type=\"text/css\">\n",
    "</style>\n",
    "<table id=\"T_78cab\">\n",
    "  <thead>\n",
    "    <tr>\n",
    "      <th class=\"blank level0\" >&nbsp;</th>\n",
    "      <th id=\"T_78cab_level0_col0\" class=\"col_heading level0 col0\" >Skewness</th>\n",
    "      <th id=\"T_78cab_level0_col1\" class=\"col_heading level0 col1\" >Kurtosis</th>\n",
    "      <th id=\"T_78cab_level0_col2\" class=\"col_heading level0 col2\" >VaR (0.05)</th>\n",
    "      <th id=\"T_78cab_level0_col3\" class=\"col_heading level0 col3\" >CVaR (0.05)</th>\n",
    "      <th id=\"T_78cab_level0_col4\" class=\"col_heading level0 col4\" >Max Drawdown</th>\n",
    "      <th id=\"T_78cab_level0_col5\" class=\"col_heading level0 col5\" >Peak</th>\n",
    "      <th id=\"T_78cab_level0_col6\" class=\"col_heading level0 col6\" >Bottom</th>\n",
    "      <th id=\"T_78cab_level0_col7\" class=\"col_heading level0 col7\" >Recover</th>\n",
    "      <th id=\"T_78cab_level0_col8\" class=\"col_heading level0 col8\" >Duration (to Recover)</th>\n",
    "    </tr>\n",
    "  </thead>\n",
    "  <tbody>\n",
    "    <tr>\n",
    "      <th id=\"T_78cab_level0_row0\" class=\"row_heading level0 row0\" >AAPL</th>\n",
    "      <td id=\"T_78cab_row0_col0\" class=\"data row0 col0\" >-0.074519</td>\n",
    "      <td id=\"T_78cab_row0_col1\" class=\"data row0 col1\" >-0.518847</td>\n",
    "      <td id=\"T_78cab_row0_col2\" class=\"data row0 col2\" >-11.61%</td>\n",
    "      <td id=\"T_78cab_row0_col3\" class=\"data row0 col3\" >-13.42%</td>\n",
    "      <td id=\"T_78cab_row0_col4\" class=\"data row0 col4\" >-30.46%</td>\n",
    "      <td id=\"T_78cab_row0_col5\" class=\"data row0 col5\" >2018-08-31 00:00:00</td>\n",
    "      <td id=\"T_78cab_row0_col6\" class=\"data row0 col6\" >2018-12-31 00:00:00</td>\n",
    "      <td id=\"T_78cab_row0_col7\" class=\"data row0 col7\" >2019-10-31 00:00:00</td>\n",
    "      <td id=\"T_78cab_row0_col8\" class=\"data row0 col8\" >426 days 00:00:00</td>\n",
    "    </tr>\n",
    "    <tr>\n",
    "      <th id=\"T_78cab_level0_row1\" class=\"row_heading level0 row1\" >AMZN</th>\n",
    "      <td id=\"T_78cab_row1_col0\" class=\"data row1 col0\" >0.256751</td>\n",
    "      <td id=\"T_78cab_row1_col1\" class=\"data row1 col1\" >0.832292</td>\n",
    "      <td id=\"T_78cab_row1_col2\" class=\"data row1 col2\" >-11.05%</td>\n",
    "      <td id=\"T_78cab_row1_col3\" class=\"data row1 col3\" >-15.45%</td>\n",
    "      <td id=\"T_78cab_row1_col4\" class=\"data row1 col4\" >-51.98%</td>\n",
    "      <td id=\"T_78cab_row1_col5\" class=\"data row1 col5\" >2021-11-30 00:00:00</td>\n",
    "      <td id=\"T_78cab_row1_col6\" class=\"data row1 col6\" >2022-12-31 00:00:00</td>\n",
    "      <td id=\"T_78cab_row1_col7\" class=\"data row1 col7\" >NaT</td>\n",
    "      <td id=\"T_78cab_row1_col8\" class=\"data row1 col8\" >NaT</td>\n",
    "    </tr>\n",
    "    <tr>\n",
    "      <th id=\"T_78cab_level0_row2\" class=\"row_heading level0 row2\" >MSFT</th>\n",
    "      <td id=\"T_78cab_row2_col0\" class=\"data row2 col0\" >0.256723</td>\n",
    "      <td id=\"T_78cab_row2_col1\" class=\"data row2 col1\" >0.089905</td>\n",
    "      <td id=\"T_78cab_row2_col2\" class=\"data row2 col2\" >-7.20%</td>\n",
    "      <td id=\"T_78cab_row2_col3\" class=\"data row2 col3\" >-8.97%</td>\n",
    "      <td id=\"T_78cab_row2_col4\" class=\"data row2 col4\" >-30.52%</td>\n",
    "      <td id=\"T_78cab_row2_col5\" class=\"data row2 col5\" >2021-12-31 00:00:00</td>\n",
    "      <td id=\"T_78cab_row2_col6\" class=\"data row2 col6\" >2022-10-31 00:00:00</td>\n",
    "      <td id=\"T_78cab_row2_col7\" class=\"data row2 col7\" >2023-06-30 00:00:00</td>\n",
    "      <td id=\"T_78cab_row2_col8\" class=\"data row2 col8\" >546 days 00:00:00</td>\n",
    "    </tr>\n",
    "    <tr>\n",
    "      <th id=\"T_78cab_level0_row3\" class=\"row_heading level0 row3\" >SPY</th>\n",
    "      <td id=\"T_78cab_row3_col0\" class=\"data row3 col0\" >-0.368433</td>\n",
    "      <td id=\"T_78cab_row3_col1\" class=\"data row3 col1\" >0.432279</td>\n",
    "      <td id=\"T_78cab_row3_col2\" class=\"data row3 col2\" >-7.61%</td>\n",
    "      <td id=\"T_78cab_row3_col3\" class=\"data row3 col3\" >-9.24%</td>\n",
    "      <td id=\"T_78cab_row3_col4\" class=\"data row3 col4\" >-23.93%</td>\n",
    "      <td id=\"T_78cab_row3_col5\" class=\"data row3 col5\" >2021-12-31 00:00:00</td>\n",
    "      <td id=\"T_78cab_row3_col6\" class=\"data row3 col6\" >2022-09-30 00:00:00</td>\n",
    "      <td id=\"T_78cab_row3_col7\" class=\"data row3 col7\" >2023-12-31 00:00:00</td>\n",
    "      <td id=\"T_78cab_row3_col8\" class=\"data row3 col8\" >730 days 00:00:00</td>\n",
    "    </tr>\n",
    "    <tr>\n",
    "      <th id=\"T_78cab_level0_row4\" class=\"row_heading level0 row4\" >TSLA</th>\n",
    "      <td id=\"T_78cab_row4_col0\" class=\"data row4 col0\" >1.015823</td>\n",
    "      <td id=\"T_78cab_row4_col1\" class=\"data row4 col1\" >1.764821</td>\n",
    "      <td id=\"T_78cab_row4_col2\" class=\"data row4 col2\" >-20.16%</td>\n",
    "      <td id=\"T_78cab_row4_col3\" class=\"data row4 col3\" >-24.05%</td>\n",
    "      <td id=\"T_78cab_row4_col4\" class=\"data row4 col4\" >-67.72%</td>\n",
    "      <td id=\"T_78cab_row4_col5\" class=\"data row4 col5\" >2021-11-30 00:00:00</td>\n",
    "      <td id=\"T_78cab_row4_col6\" class=\"data row4 col6\" >2022-12-31 00:00:00</td>\n",
    "      <td id=\"T_78cab_row4_col7\" class=\"data row4 col7\" >NaT</td>\n",
    "      <td id=\"T_78cab_row4_col8\" class=\"data row4 col8\" >NaT</td>\n",
    "    </tr>\n",
    "    <tr>\n",
    "      <th id=\"T_78cab_level0_row5\" class=\"row_heading level0 row5\" >VIX</th>\n",
    "      <td id=\"T_78cab_row5_col0\" class=\"data row5 col0\" >1.625448</td>\n",
    "      <td id=\"T_78cab_row5_col1\" class=\"data row5 col1\" >4.653862</td>\n",
    "      <td id=\"T_78cab_row5_col2\" class=\"data row5 col2\" >-34.43%</td>\n",
    "      <td id=\"T_78cab_row5_col3\" class=\"data row5 col3\" >-38.08%</td>\n",
    "      <td id=\"T_78cab_row5_col4\" class=\"data row5 col4\" >-76.60%</td>\n",
    "      <td id=\"T_78cab_row5_col5\" class=\"data row5 col5\" >2020-03-31 00:00:00</td>\n",
    "      <td id=\"T_78cab_row5_col6\" class=\"data row5 col6\" >2023-12-31 00:00:00</td>\n",
    "      <td id=\"T_78cab_row5_col7\" class=\"data row5 col7\" >NaT</td>\n",
    "      <td id=\"T_78cab_row5_col8\" class=\"data row5 col8\" >NaT</td>\n",
    "    </tr>\n",
    "  </tbody>\n",
    "</table>\n"
   ]
  },
  {
   "cell_type": "code",
   "execution_count": null,
   "metadata": {},
   "outputs": [],
   "source": [
    "tailmetrics = portfolio_cmds.tailMetrics(returns=retsm)\n",
    "tailmetrics\n",
    "tailmetrics_style = tailmetrics.style.format({\"VaR (0.05)\":\"{:,.2%}\",'CVaR (0.05)':\"{:,.2%}\",\"Max Drawdown\":\"{:,.2%}\"})\n",
    "print(tailmetrics_style.to_html())"
   ]
  },
  {
   "cell_type": "code",
   "execution_count": 468,
   "metadata": {},
   "outputs": [],
   "source": [
    "c1.K = 20"
   ]
  },
  {
   "cell_type": "code",
   "execution_count": 482,
   "metadata": {},
   "outputs": [
    {
     "data": {
      "text/html": [
       "<div>\n",
       "<style scoped>\n",
       "    .dataframe tbody tr th:only-of-type {\n",
       "        vertical-align: middle;\n",
       "    }\n",
       "\n",
       "    .dataframe tbody tr th {\n",
       "        vertical-align: top;\n",
       "    }\n",
       "\n",
       "    .dataframe thead th {\n",
       "        text-align: right;\n",
       "    }\n",
       "</style>\n",
       "<table border=\"1\" class=\"dataframe\">\n",
       "  <thead>\n",
       "    <tr style=\"text-align: right;\">\n",
       "      <th></th>\n",
       "      <th>Price</th>\n",
       "      <th>Delta</th>\n",
       "      <th>Gamma</th>\n",
       "      <th>Vega</th>\n",
       "      <th>Theta</th>\n",
       "    </tr>\n",
       "  </thead>\n",
       "  <tbody>\n",
       "    <tr>\n",
       "      <th>CALL(K = 40)</th>\n",
       "      <td>0.036634</td>\n",
       "      <td>0.041294</td>\n",
       "      <td>0.039528</td>\n",
       "      <td>0.899239</td>\n",
       "      <td>-0.003363</td>\n",
       "    </tr>\n",
       "  </tbody>\n",
       "</table>\n",
       "</div>"
      ],
      "text/plain": [
       "                 Price     Delta     Gamma      Vega     Theta\n",
       "CALL(K = 40)  0.036634  0.041294  0.039528  0.899239 -0.003363"
      ]
     },
     "execution_count": 482,
     "metadata": {},
     "output_type": "execute_result"
    }
   ],
   "source": [
    "k1 = 40\n",
    "T1 = 1/12\n",
    "s1 = 35.82\n",
    "sig1 = .22\n",
    "r1 = .0001\n",
    "T2 = (1/12)-1/365\n",
    "c1 = CALL(S0=s1, K= k1, R = r1,Sigma=sig1,T = T1)\n",
    "c1.update_T(new_T=T2)\n",
    "callE = Option_Pricer(contract=c1)\n",
    "\n",
    "callE.return_values()"
   ]
  },
  {
   "cell_type": "code",
   "execution_count": 516,
   "metadata": {},
   "outputs": [
    {
     "data": {
      "text/plain": [
       "0.04129421492096203"
      ]
     },
     "execution_count": 516,
     "metadata": {},
     "output_type": "execute_result"
    }
   ],
   "source": [
    "callE.delta()"
   ]
  },
  {
   "cell_type": "code",
   "execution_count": 431,
   "metadata": {},
   "outputs": [
    {
     "data": {
      "text/plain": [
       "['update_T', 'update_iv', 'update_rf', 'update_spot']"
      ]
     },
     "execution_count": 431,
     "metadata": {},
     "output_type": "execute_result"
    }
   ],
   "source": [
    "[i for i in dir(c1) if 'update' in i]"
   ]
  },
  {
   "cell_type": "code",
   "execution_count": 255,
   "metadata": {},
   "outputs": [
    {
     "data": {
      "text/html": [
       "<div>\n",
       "<style scoped>\n",
       "    .dataframe tbody tr th:only-of-type {\n",
       "        vertical-align: middle;\n",
       "    }\n",
       "\n",
       "    .dataframe tbody tr th {\n",
       "        vertical-align: top;\n",
       "    }\n",
       "\n",
       "    .dataframe thead th {\n",
       "        text-align: right;\n",
       "    }\n",
       "</style>\n",
       "<table border=\"1\" class=\"dataframe\">\n",
       "  <thead>\n",
       "    <tr style=\"text-align: right;\">\n",
       "      <th></th>\n",
       "      <th>AAPL</th>\n",
       "      <th>AMZN</th>\n",
       "      <th>MSFT</th>\n",
       "      <th>SPY</th>\n",
       "      <th>TSLA</th>\n",
       "      <th>VIX</th>\n",
       "    </tr>\n",
       "  </thead>\n",
       "  <tbody>\n",
       "    <tr>\n",
       "      <th>2023-12-13</th>\n",
       "      <td>197.96</td>\n",
       "      <td>148.84</td>\n",
       "      <td>374.37</td>\n",
       "      <td>468.596904</td>\n",
       "      <td>239.29</td>\n",
       "      <td>12.19</td>\n",
       "    </tr>\n",
       "    <tr>\n",
       "      <th>2023-12-14</th>\n",
       "      <td>198.11</td>\n",
       "      <td>147.42</td>\n",
       "      <td>365.93</td>\n",
       "      <td>470.100797</td>\n",
       "      <td>251.05</td>\n",
       "      <td>12.48</td>\n",
       "    </tr>\n",
       "    <tr>\n",
       "      <th>2023-12-15</th>\n",
       "      <td>197.57</td>\n",
       "      <td>149.97</td>\n",
       "      <td>370.73</td>\n",
       "      <td>469.330000</td>\n",
       "      <td>253.50</td>\n",
       "      <td>12.28</td>\n",
       "    </tr>\n",
       "    <tr>\n",
       "      <th>2023-12-18</th>\n",
       "      <td>195.89</td>\n",
       "      <td>154.07</td>\n",
       "      <td>372.65</td>\n",
       "      <td>471.970000</td>\n",
       "      <td>252.08</td>\n",
       "      <td>12.56</td>\n",
       "    </tr>\n",
       "    <tr>\n",
       "      <th>2023-12-19</th>\n",
       "      <td>196.94</td>\n",
       "      <td>153.79</td>\n",
       "      <td>373.26</td>\n",
       "      <td>474.840000</td>\n",
       "      <td>257.22</td>\n",
       "      <td>12.53</td>\n",
       "    </tr>\n",
       "  </tbody>\n",
       "</table>\n",
       "</div>"
      ],
      "text/plain": [
       "              AAPL    AMZN    MSFT         SPY    TSLA    VIX\n",
       "2023-12-13  197.96  148.84  374.37  468.596904  239.29  12.19\n",
       "2023-12-14  198.11  147.42  365.93  470.100797  251.05  12.48\n",
       "2023-12-15  197.57  149.97  370.73  469.330000  253.50  12.28\n",
       "2023-12-18  195.89  154.07  372.65  471.970000  252.08  12.56\n",
       "2023-12-19  196.94  153.79  373.26  474.840000  257.22  12.53"
      ]
     },
     "execution_count": 255,
     "metadata": {},
     "output_type": "execute_result"
    }
   ],
   "source": [
    "prices.tail()"
   ]
  },
  {
   "cell_type": "code",
   "execution_count": 254,
   "metadata": {},
   "outputs": [
    {
     "data": {
      "text/html": [
       "<div>\n",
       "<style scoped>\n",
       "    .dataframe tbody tr th:only-of-type {\n",
       "        vertical-align: middle;\n",
       "    }\n",
       "\n",
       "    .dataframe tbody tr th {\n",
       "        vertical-align: top;\n",
       "    }\n",
       "\n",
       "    .dataframe thead th {\n",
       "        text-align: right;\n",
       "    }\n",
       "</style>\n",
       "<table border=\"1\" class=\"dataframe\">\n",
       "  <thead>\n",
       "    <tr style=\"text-align: right;\">\n",
       "      <th></th>\n",
       "      <th>AAPL</th>\n",
       "      <th>AMZN</th>\n",
       "      <th>MSFT</th>\n",
       "      <th>SPY</th>\n",
       "      <th>TSLA</th>\n",
       "      <th>MSFT_Vol</th>\n",
       "      <th>TSLA_Vol</th>\n",
       "      <th>AAPL_Vol</th>\n",
       "      <th>AMZN_Vol</th>\n",
       "      <th>SPY_Vol</th>\n",
       "      <th>VIX_Vol</th>\n",
       "      <th>ONE_M</th>\n",
       "    </tr>\n",
       "  </thead>\n",
       "  <tbody>\n",
       "    <tr>\n",
       "      <th>2023-12-19</th>\n",
       "      <td>0.00536</td>\n",
       "      <td>-0.001817</td>\n",
       "      <td>0.001637</td>\n",
       "      <td>0.006081</td>\n",
       "      <td>0.02039</td>\n",
       "      <td>0.192367</td>\n",
       "      <td>0.429326</td>\n",
       "      <td>0.159047</td>\n",
       "      <td>0.239435</td>\n",
       "      <td>0.105597</td>\n",
       "      <td>0.1253</td>\n",
       "      <td>0.0551</td>\n",
       "    </tr>\n",
       "  </tbody>\n",
       "</table>\n",
       "</div>"
      ],
      "text/plain": [
       "               AAPL      AMZN      MSFT       SPY     TSLA  MSFT_Vol  \\\n",
       "2023-12-19  0.00536 -0.001817  0.001637  0.006081  0.02039  0.192367   \n",
       "\n",
       "            TSLA_Vol  AAPL_Vol  AMZN_Vol   SPY_Vol  VIX_Vol   ONE_M  \n",
       "2023-12-19  0.429326  0.159047  0.239435  0.105597   0.1253  0.0551  "
      ]
     },
     "execution_count": 254,
     "metadata": {},
     "output_type": "execute_result"
    }
   ],
   "source": [
    "FULLDF.tail(1)"
   ]
  },
  {
   "cell_type": "code",
   "execution_count": 202,
   "metadata": {},
   "outputs": [
    {
     "data": {
      "text/plain": [
       "0.046382650499247946"
      ]
     },
     "execution_count": 202,
     "metadata": {},
     "output_type": "execute_result"
    }
   ],
   "source": [
    "callE.price_derivative()"
   ]
  },
  {
   "cell_type": "code",
   "execution_count": 223,
   "metadata": {},
   "outputs": [
    {
     "data": {
      "text/plain": [
       "array([4.47719633e-02, 4.09930499e-02, 3.73418614e-02, 3.38251395e-02,\n",
       "       3.04498309e-02, 2.72230522e-02, 2.41520404e-02, 2.12440857e-02,\n",
       "       1.85064423e-02, 1.59462112e-02, 1.35701895e-02, 1.13846761e-02,\n",
       "       9.39522884e-03, 7.60635976e-03, 6.02116201e-03, 4.64085977e-03,\n",
       "       3.46427920e-03, 2.48724846e-03, 1.70195469e-03, 1.09631932e-03,\n",
       "       6.53507183e-04, 3.51763465e-04, 1.64869227e-04, 6.35828841e-05,\n",
       "       1.83785836e-05, 3.37170162e-06, 2.82551834e-07, 5.06347752e-09,\n",
       "       2.04459363e-12, 2.78936834e-22, 0.00000000e+00])"
      ]
     },
     "execution_count": 223,
     "metadata": {},
     "output_type": "execute_result"
    }
   ],
   "source": [
    "Ts = np.array(sorted([i/365 for i in range(0,31)],reverse=True))\n",
    "k1 = 40\n",
    "T1 = 1/12\n",
    "s1 = 35.82\n",
    "sig1 = 0.2263\n",
    "r1 = .0001\n",
    "callE = Option_Pricer(CALL(S0=s1, K= k1, R = r1,Sigma=sig1,T = Ts))\n",
    "callE.price_derivative()"
   ]
  },
  {
   "cell_type": "code",
   "execution_count": null,
   "metadata": {},
   "outputs": [],
   "source": []
  }
 ],
 "metadata": {
  "kernelspec": {
   "display_name": "Python 3",
   "language": "python",
   "name": "python3"
  },
  "language_info": {
   "codemirror_mode": {
    "name": "ipython",
    "version": 3
   },
   "file_extension": ".py",
   "mimetype": "text/x-python",
   "name": "python",
   "nbconvert_exporter": "python",
   "pygments_lexer": "ipython3",
   "version": "3.11.7"
  }
 },
 "nbformat": 4,
 "nbformat_minor": 2
}
