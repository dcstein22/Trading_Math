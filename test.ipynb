{
 "cells": [
  {
   "cell_type": "markdown",
   "metadata": {},
   "source": [
    "# Black-Scholes\n",
    "\n",
    "- There are 5 parameters in Black-Scholes\n",
    "    - $S_t$\n",
    "    - $K$\n",
    "    - $\\sigma$\n",
    "    - $r$\n",
    "    - $\\tau$\n",
    "    \n",
    "\n",
    "\n",
    "A **Call Option** equals:\n",
    "\n",
    "\\begin{align}\n",
    "\n",
    "C(K) = e^{-r(T-t)}\\mathbb{E}(S_T - K|S_t)^+ = S_t N(d_1) - Ke^{-r(T - t)}N(d_2)\n",
    "\n",
    "\\end{align}\n",
    "\n",
    "A **Put Option** equals:\n",
    "\n",
    "\\begin{align}\n",
    "\n",
    "\n",
    "P(K) = e^{-r(T-t)}\\mathbb{E}(K-S_T|S_t)^+ = Ke^{-r(T - t)}N(-d_2) - S_t N(-d_1)\n",
    "\n",
    "\n",
    "\n",
    "\\end{align}\n",
    "\n",
    "### Where\n",
    "\n",
    "\\begin{align}\n",
    "\n",
    "& d_1 = (\\frac{log(\\frac{S_t}{K}) + (\\tau)(r + \\frac{\\sigma^2}{2})}{\\sigma\\sqrt{\\tau}}) \\\\\n",
    "\n",
    "& d_2 = (\\frac{log(\\frac{S_t}{K}) + (\\tau)(r - \\frac{\\sigma^2}{2})}{\\sigma\\sqrt{\\tau}}) = d_1 - \\sigma\\sqrt{\\tau} \\\\\n",
    "\n",
    "& N(z) = \\frac{1}{\\sqrt{2\\pi}} \\displaystyle\\int_{- \\infty}^{x}{e^{-z^2/2}dz}\n",
    "\n",
    "\n",
    "\\end{align}\n",
    "\n",
    "\n",
    "\n",
    "\n",
    "$N(x)$ is the **standard normal cumulative density** function. The probability that $X \\le .3$ is $\\mathrm{P}({X \\le .3}) = N(.3) = 0.62$"
   ]
  }
 ],
 "metadata": {
  "kernelspec": {
   "display_name": "base",
   "language": "python",
   "name": "python3"
  },
  "language_info": {
   "name": "python",
   "version": "3.9.13"
  },
  "orig_nbformat": 4
 },
 "nbformat": 4,
 "nbformat_minor": 2
}
